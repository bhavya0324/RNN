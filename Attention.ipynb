{
  "cells": [
    {
      "cell_type": "markdown",
      "metadata": {
        "id": "view-in-github",
        "colab_type": "text"
      },
      "source": [
        "<a href=\"https://colab.research.google.com/github/hemanths03/CS6910_Assignment_3/blob/main/Attention.ipynb\" target=\"_parent\"><img src=\"https://colab.research.google.com/assets/colab-badge.svg\" alt=\"Open In Colab\"/></a>"
      ]
    },
    {
      "cell_type": "markdown",
      "metadata": {
        "id": "z37HJ5CU5bM7"
      },
      "source": [
        "#Importing Required Libraries"
      ]
    },
    {
      "cell_type": "code",
      "execution_count": null,
      "metadata": {
        "id": "m59A7f2p5bVn"
      },
      "outputs": [],
      "source": [
        "import pandas as pd\n",
        "import numpy as np\n",
        "from random import sample\n",
        "\n",
        "from tensorflow import keras\n",
        "from tensorflow.keras.layers import Layer\n",
        "from tensorflow.keras import backend as K"
      ]
    },
    {
      "cell_type": "markdown",
      "metadata": {
        "id": "385sAN9E5i5N"
      },
      "source": [
        "#WandB Login"
      ]
    },
    {
      "cell_type": "code",
      "execution_count": null,
      "metadata": {
        "colab": {
          "base_uri": "https://localhost:8080/",
          "height": 141
        },
        "id": "bQzB1BTz5f5h",
        "outputId": "b3d7e5b4-e3e2-4ee6-b1de-7f6a8f0abf83"
      },
      "outputs": [
        {
          "output_type": "stream",
          "name": "stdout",
          "text": [
            "\u001b[K     |████████████████████████████████| 1.8 MB 5.3 MB/s \n",
            "\u001b[K     |████████████████████████████████| 181 kB 50.2 MB/s \n",
            "\u001b[K     |████████████████████████████████| 144 kB 49.1 MB/s \n",
            "\u001b[K     |████████████████████████████████| 63 kB 1.6 MB/s \n",
            "\u001b[?25h  Building wheel for pathtools (setup.py) ... \u001b[?25l\u001b[?25hdone\n"
          ]
        },
        {
          "output_type": "display_data",
          "data": {
            "text/plain": [
              "<IPython.core.display.Javascript object>"
            ],
            "application/javascript": [
              "\n",
              "        window._wandbApiKey = new Promise((resolve, reject) => {\n",
              "            function loadScript(url) {\n",
              "            return new Promise(function(resolve, reject) {\n",
              "                let newScript = document.createElement(\"script\");\n",
              "                newScript.onerror = reject;\n",
              "                newScript.onload = resolve;\n",
              "                document.body.appendChild(newScript);\n",
              "                newScript.src = url;\n",
              "            });\n",
              "            }\n",
              "            loadScript(\"https://cdn.jsdelivr.net/npm/postmate/build/postmate.min.js\").then(() => {\n",
              "            const iframe = document.createElement('iframe')\n",
              "            iframe.style.cssText = \"width:0;height:0;border:none\"\n",
              "            document.body.appendChild(iframe)\n",
              "            const handshake = new Postmate({\n",
              "                container: iframe,\n",
              "                url: 'https://wandb.ai/authorize'\n",
              "            });\n",
              "            const timeout = setTimeout(() => reject(\"Couldn't auto authenticate\"), 5000)\n",
              "            handshake.then(function(child) {\n",
              "                child.on('authorize', data => {\n",
              "                    clearTimeout(timeout)\n",
              "                    resolve(data)\n",
              "                });\n",
              "            });\n",
              "            })\n",
              "        });\n",
              "    "
            ]
          },
          "metadata": {}
        },
        {
          "output_type": "stream",
          "name": "stderr",
          "text": [
            "\u001b[34m\u001b[1mwandb\u001b[0m: Appending key for api.wandb.ai to your netrc file: /root/.netrc\n"
          ]
        }
      ],
      "source": [
        "!pip install wandb -qqq\n",
        "import wandb\n",
        "wandb.login()\n",
        "\n",
        "from wandb.keras import WandbCallback"
      ]
    },
    {
      "cell_type": "markdown",
      "metadata": {
        "id": "YmBGN7t15meQ"
      },
      "source": [
        "#Mounting the google drive"
      ]
    },
    {
      "cell_type": "code",
      "execution_count": null,
      "metadata": {
        "colab": {
          "base_uri": "https://localhost:8080/"
        },
        "id": "QQnf1Q_z5q0v",
        "outputId": "f9d9ced9-5ad5-4eaf-c49a-4d688ba4e2d1"
      },
      "outputs": [
        {
          "output_type": "stream",
          "name": "stdout",
          "text": [
            "Mounted at /content/gdrive\n"
          ]
        }
      ],
      "source": [
        "from google.colab import drive\n",
        "drive.mount('/content/gdrive')"
      ]
    },
    {
      "cell_type": "markdown",
      "metadata": {
        "id": "tyt14pvD6DP9"
      },
      "source": [
        "#Load the datasets"
      ]
    },
    {
      "cell_type": "code",
      "execution_count": null,
      "metadata": {
        "id": "FDRIrX6y6DbR"
      },
      "outputs": [],
      "source": [
        "train_dataset = pd.read_csv('/content/gdrive/MyDrive/dakshina_dataset_v1.0/te/lexicons/te.translit.sampled.train.tsv', sep = '\\t', header = None)\n",
        "val_dataset = pd.read_csv('/content/gdrive/MyDrive/dakshina_dataset_v1.0/te/lexicons/te.translit.sampled.dev.tsv', sep = '\\t', header = None)\n",
        "test_dataset = pd.read_csv('/content/gdrive/MyDrive/dakshina_dataset_v1.0/te/lexicons/te.translit.sampled.test.tsv', sep = '\\t', header = None)"
      ]
    },
    {
      "cell_type": "markdown",
      "metadata": {
        "id": "6i6X7Rct5rCQ"
      },
      "source": [
        "#Preprocessing the dataset into required format"
      ]
    },
    {
      "cell_type": "code",
      "execution_count": null,
      "metadata": {
        "id": "lDYTVYFU5_us"
      },
      "outputs": [],
      "source": [
        "def preprocess_data():\n",
        "\n",
        "    #Declaring some required variables\n",
        "\n",
        "    train_input_lexicons = []\n",
        "    train_target_lexicons = []\n",
        "    val_input_lexicons = []\n",
        "    val_target_lexicons = []\n",
        "    test_input_lexicons = []\n",
        "    test_target_lexicons = []\n",
        "\n",
        "    #Splitting the datasets in input_lexicons and target_lexicons\n",
        "\n",
        "    for i in range(len(train_dataset)):\n",
        "      train_input_lexicons.append(str(train_dataset[1][i]))\n",
        "      train_target_lexicons.append(\"\\t\" + str(train_dataset[0][i])+\"\\n\")\n",
        "\n",
        "    for i in range(len(val_dataset)):\n",
        "      val_input_lexicons.append(str(val_dataset[1][i]))\n",
        "      val_target_lexicons.append(\"\\t\" + str(val_dataset[0][i])+\"\\n\")\n",
        "\n",
        "    for i in range(len(test_dataset)):\n",
        "      test_input_lexicons.append(str(test_dataset[1][i]))\n",
        "      test_target_lexicons.append(\"\\t\" + str(test_dataset[0][i])+\"\\n\")\n",
        "\n",
        "\n",
        "    #Creating unique input and target character sets\n",
        "\n",
        "    input_characters = set()\n",
        "    input_characters.add(' ')\n",
        "    target_characters = set()\n",
        "    target_characters.add(' ')\n",
        "\n",
        "    #union of all input words\n",
        "\n",
        "    ip_words = train_input_lexicons + val_input_lexicons + test_input_lexicons\n",
        "\n",
        "    #Union of all target words\n",
        "\n",
        "    op_words = train_target_lexicons + val_target_lexicons + test_target_lexicons\n",
        "\n",
        "    #Adding unique characters in their respective sets\n",
        "\n",
        "    for word in ip_words:\n",
        "      for char in word:\n",
        "        input_characters.add(char)\n",
        "\n",
        "    for word in op_words:\n",
        "      for char in word:\n",
        "        target_characters.add(char)\n",
        "\n",
        "    #Sorting the list\n",
        "\n",
        "    input_characters = sorted(list(input_characters))\n",
        "    num_encoder_tokens = len(input_characters)\n",
        "\n",
        "    target_characters = sorted(list(target_characters))\n",
        "    num_decoder_tokens = len(target_characters)\n",
        "\n",
        "    #Find the max sequence length input and target\n",
        "\n",
        "    max_encoder_seq_length = max([len(word) for word in ip_words])\n",
        "    max_decoder_seq_length = max([len(word) for word in op_words])\n",
        "\n",
        "    #Printing the summary :\n",
        "\n",
        "    print(\"Summary of the dataset :\")\n",
        "    print(\"Number of train samples :\" , len(train_input_lexicons))\n",
        "    print(\"Number of val samples :\" , len(val_input_lexicons))\n",
        "    print(\"Number of test samples :\" , len(test_input_lexicons))\n",
        "    print(\"Number of unique input tokens :\" , num_encoder_tokens)\n",
        "    print(\"Number of unique output tokens :\" , num_decoder_tokens)\n",
        "    print(\"Max sequence length for inputs:\" , max_encoder_seq_length)\n",
        "    print(\"Max sequence length for outputs:\" , max_decoder_seq_length)\n",
        "\n",
        "    #Creating a dictionary for input words and target words\n",
        "\n",
        "    input_token_index = dict([(char, i) for i, char in enumerate(input_characters)])\n",
        "    target_token_index = dict([(char, i) for i, char in enumerate(target_characters)])\n",
        "\n",
        "\n",
        "    encoder_train_input_data = np.zeros((len(train_input_lexicons), max_encoder_seq_length), dtype=\"float32\")\n",
        "\n",
        "    encoder_val_input_data = np.zeros((len(val_input_lexicons), max_encoder_seq_length), dtype=\"float32\")\n",
        "\n",
        "    encoder_test_input_data = np.zeros((len(test_input_lexicons), max_encoder_seq_length), dtype=\"float32\")\n",
        "\n",
        "\n",
        "    decoder_train_input_data = np.zeros((len(train_input_lexicons), max_decoder_seq_length), dtype=\"float32\")\n",
        "    decoder_train_target_data = np.zeros((len(train_input_lexicons), max_decoder_seq_length, num_decoder_tokens ), dtype=\"float32\")\n",
        "\n",
        "   \n",
        "    decoder_val_input_data = np.zeros((len(val_input_lexicons), max_decoder_seq_length), dtype=\"float32\")\n",
        "    decoder_val_target_data = np.zeros((len(val_input_lexicons), max_decoder_seq_length, num_decoder_tokens), dtype=\"float32\")\n",
        "\n",
        "    \n",
        "    #TRAIN DATA\n",
        "\n",
        "    for i, (input_text, target_text) in enumerate(zip(train_input_lexicons, train_target_lexicons)):\n",
        "      for t, char in enumerate(input_text):\n",
        "          encoder_train_input_data[i, t] = input_token_index[char]\n",
        "      encoder_train_input_data[i, t + 1 :] = input_token_index[' ']\n",
        "      for t, char in enumerate(target_text):\n",
        "          # decoder_target_data is ahead of decoder_input_data by one timestep\n",
        "          decoder_train_input_data[i, t] = target_token_index[char]\n",
        "          if t > 0:\n",
        "              # decoder_target_data will be ahead by one timestep\n",
        "              # and will not include the start character.\n",
        "              decoder_train_target_data[i, t - 1, target_token_index[char]] = 1.0\n",
        "      decoder_train_input_data[i, t + 1 :] = target_token_index[' ']\n",
        "      decoder_train_target_data[i, t:, target_token_index[' ']] = 1.0\n",
        "\n",
        "    #VALIDATION DATA\n",
        "\n",
        "    for i, (input_text, target_text) in enumerate(zip(val_input_lexicons, val_target_lexicons)):\n",
        "      for t, char in enumerate(input_text):\n",
        "          encoder_val_input_data[i, t] = input_token_index[char]\n",
        "      encoder_val_input_data[i, t + 1 :] = input_token_index[' ']\n",
        "      for t, char in enumerate(target_text):\n",
        "          # decoder_target_data is ahead of decoder_input_data by one timestep\n",
        "          decoder_val_input_data[i, t] = target_token_index[char]\n",
        "          if t > 0:\n",
        "              # decoder_target_data will be ahead by one timestep\n",
        "              # and will not include the start character.\n",
        "              decoder_val_target_data[i, t - 1, target_token_index[char]] = 1.0\n",
        "      decoder_val_input_data[i, t + 1 :] = target_token_index[' ']\n",
        "      decoder_val_target_data[i, t:, target_token_index[' ']] = 1.0\n",
        "\n",
        "    #TEST DATA\n",
        "\n",
        "    for i, input_text in enumerate(test_input_lexicons):\n",
        "      for t, char in enumerate(input_text):\n",
        "          encoder_test_input_data[i, t] = input_token_index[char]\n",
        "      encoder_test_input_data[i, t + 1 :] = input_token_index[' ']\n",
        "      \n",
        "\n",
        "    inverse_input_token_index = dict((i, char) for char, i in input_token_index.items())\n",
        "    inverse_target_token_index = dict((i, char) for char, i in target_token_index.items())\n",
        "\n",
        "    return ((encoder_train_input_data , encoder_val_input_data , encoder_test_input_data),\n",
        "    (decoder_train_input_data , decoder_val_input_data),\n",
        "    (decoder_train_target_data , decoder_val_target_data),\n",
        "    (val_input_lexicons , test_input_lexicons),\n",
        "    (val_target_lexicons , test_target_lexicons),\n",
        "    (num_encoder_tokens , num_decoder_tokens),\n",
        "    (max_encoder_seq_length , max_decoder_seq_length),\n",
        "    (target_token_index , inverse_input_token_index , inverse_target_token_index))"
      ]
    },
    {
      "cell_type": "markdown",
      "metadata": {
        "id": "ddNYxiS8ZSlz"
      },
      "source": [
        "#Load the preprocessed data"
      ]
    },
    {
      "cell_type": "code",
      "execution_count": null,
      "metadata": {
        "colab": {
          "base_uri": "https://localhost:8080/"
        },
        "id": "4qubNseHZWGm",
        "outputId": "6d7dc4e2-c013-4157-a8a0-1cc75d599d75"
      },
      "outputs": [
        {
          "output_type": "stream",
          "name": "stdout",
          "text": [
            "Summary of the dataset :\n",
            "Number of train samples : 58550\n",
            "Number of val samples : 5683\n",
            "Number of test samples : 5747\n",
            "Number of unique input tokens : 27\n",
            "Number of unique output tokens : 66\n",
            "Max sequence length for inputs: 25\n",
            "Max sequence length for outputs: 22\n"
          ]
        }
      ],
      "source": [
        "((encoder_train_input_data , encoder_val_input_data , encoder_test_input_data),\n",
        " (decoder_train_input_data , decoder_val_input_data),\n",
        " (decoder_train_target_data , decoder_val_target_data),\n",
        " (val_input_lexicons , test_input_lexicons),\n",
        " (val_target_lexicons , test_target_lexicons),\n",
        " (num_encoder_tokens , num_decoder_tokens),\n",
        " (max_encoder_seq_length , max_decoder_seq_length),\n",
        " (target_token_index , inverse_input_token_index , inverse_target_token_index)) = preprocess_data()"
      ]
    },
    {
      "cell_type": "code",
      "execution_count": null,
      "metadata": {
        "id": "nrG6C4YV5rga"
      },
      "outputs": [],
      "source": [
        ""
      ]
    },
    {
      "cell_type": "markdown",
      "source": [
        "#Building an Attention layer"
      ],
      "metadata": {
        "id": "O2nOR5iAAqm1"
      }
    },
    {
      "cell_type": "code",
      "source": [
        "import tensorflow as tf\n",
        "class AttentionLayer(Layer):\n",
        "\n",
        "    def __init__(self, **kwargs):\n",
        "        super(AttentionLayer, self).__init__(**kwargs)\n",
        "\n",
        "    def build(self, input_shape):\n",
        "\n",
        "        self.W_a = self.add_weight(name='W_a',\n",
        "                                   shape = tf.TensorShape((input_shape[0][2], input_shape[0][2])),\n",
        "                                   initializer = 'uniform',\n",
        "                                   trainable = True)\n",
        "\n",
        "        self.U_a = self.add_weight(name = 'U_a',\n",
        "                                   shape = tf.TensorShape((input_shape[1][2], input_shape[0][2])),\n",
        "                                   initializer = 'uniform',\n",
        "                                   trainable = True)\n",
        "\n",
        "        self.V_a = self.add_weight(name = 'V_a',\n",
        "                                   shape = tf.TensorShape((input_shape[0][2], 1)),\n",
        "                                   initializer = 'uniform',\n",
        "                                   trainable = True)\n",
        "\n",
        "        super(AttentionLayer, self).build(input_shape)  # Be sure to call this at the end\n",
        "\n",
        "    def call(self, inputs):\n",
        "       \n",
        "        \"\"\"\n",
        "        inputs: [encoder_output_sequence, decoder_output_sequence]\n",
        "        \"\"\"\n",
        "        encoder_out_seq, decoder_out_seq = inputs\n",
        "\n",
        "        def energy_step(inputs, states):\n",
        "           \n",
        "            \"\"\" Step function for computing energy for a single decoder state\n",
        "            inputs: (batchsize * 1 * de_in_dim)\n",
        "            states: (batchsize * 1 * de_latent_dim)\n",
        "            \"\"\"\n",
        "\n",
        "            \"\"\" Some parameters required for shaping tensors\"\"\"\n",
        "            en_seq_len, en_hidden = encoder_out_seq.shape[1], encoder_out_seq.shape[2]\n",
        "            de_hidden = inputs.shape[-1]\n",
        "\n",
        "            \"\"\" Computing S.Wa where S=[s0, s1, ..., si]\"\"\"\n",
        "            # <= batch size * en_seq_len * latent_dim\n",
        "            W_a_dot_s = K.dot(encoder_out_seq, self.W_a)\n",
        "\n",
        "            \"\"\" Computing hj.Ua \"\"\"\n",
        "            U_a_dot_h = K.expand_dims(K.dot(inputs, self.U_a), 1)  # <= batch_size, 1, latent_dim\n",
        "\n",
        "            \"\"\" tanh(S.Wa + hj.Ua) \"\"\"\n",
        "            # <= batch_size*en_seq_len, latent_dim\n",
        "            Ws_plus_Uh = K.tanh(W_a_dot_s + U_a_dot_h)\n",
        "\n",
        "            \"\"\" softmax(va.tanh(S.Wa + hj.Ua)) \"\"\"\n",
        "            # <= batch_size, en_seq_len\n",
        "            e_i = K.squeeze(K.dot(Ws_plus_Uh, self.V_a), axis=-1)\n",
        "            # <= batch_size, en_seq_len\n",
        "            e_i = K.softmax(e_i)\n",
        "            \n",
        "            return e_i, [e_i]\n",
        "\n",
        "        def context_step(inputs, states):\n",
        "            \"\"\" Step function for computing ci using ei \"\"\"\n",
        "\n",
        "            # <= batch_size, hidden_size\n",
        "            c_i = K.sum(encoder_out_seq * K.expand_dims(inputs, -1), axis=1)\n",
        "\n",
        "            return c_i, [c_i]\n",
        "\n",
        "        fake_state_c = K.sum(encoder_out_seq, axis=1)\n",
        "        fake_state_e = K.sum(encoder_out_seq, axis=2)  # <= (batch_size, enc_seq_len, latent_dim\n",
        "\n",
        "        \"\"\" Computing energy outputs \"\"\"\n",
        "        # e_outputs => (batch_size, de_seq_len, en_seq_len)\n",
        "        last_out, e_outputs, _ = K.rnn(\n",
        "            energy_step, decoder_out_seq, [fake_state_e],\n",
        "        )\n",
        "\n",
        "        \"\"\" Computing context vectors \"\"\"\n",
        "        last_out, c_outputs, _ = K.rnn(\n",
        "            context_step, e_outputs, [fake_state_c],\n",
        "        )\n",
        "\n",
        "        return c_outputs, e_outputs"
      ],
      "metadata": {
        "id": "EdBro67o_-4f"
      },
      "execution_count": null,
      "outputs": []
    },
    {
      "cell_type": "markdown",
      "metadata": {
        "id": "iJVhJdbBf4WU"
      },
      "source": [
        "#Building an RNN Model"
      ]
    },
    {
      "cell_type": "code",
      "execution_count": null,
      "metadata": {
        "id": "8aLBHVDNdtwl"
      },
      "outputs": [],
      "source": [
        "def train():\n",
        "\n",
        "    np.random.seed(77)\n",
        "\n",
        "    #Initializing WandB\n",
        "    run = wandb.init()\n",
        "    config = run.config\n",
        "\n",
        "    #Setting up the Run name\n",
        "    name = \"ES_\" + str(config.embedding_size) + \"_CT_\" + config.cell_type + \"_DO_\" + str(config.dropout) + \"_BS_\" + str(config.beam_size)\n",
        "    run.name = name\n",
        "\n",
        "    #Set the variables\n",
        "\n",
        "    #Define input sequence and Setting the Encoder\n",
        "    encoder_inputs = keras.Input(shape =(None, ))\n",
        "    encoder_outputs = keras.layers.Embedding(input_dim = num_encoder_tokens, output_dim = config.embedding_size, input_length = max_encoder_seq_length)(encoder_inputs)\n",
        "\n",
        "    #Setting the Decoder\n",
        "    decoder_inputs = keras.Input(shape=(None, ))\n",
        "    decoder_outputs = keras.layers.Embedding(input_dim = num_decoder_tokens, output_dim = config.embedding_size, input_length = max_decoder_seq_length)(decoder_inputs)\n",
        "\n",
        "    # We discard encoder_outputs and only keep the states.\n",
        "    # Set up the decoder, using encoder_states as initial state.\n",
        "    encoder_states = list()\n",
        "\n",
        "    if config.cell_type == \"rnn\":\n",
        "        encoder_outputs, state = keras.layers.SimpleRNN(config.hidden_layer_size, dropout = config.dropout, return_state = True, recurrent_dropout = config.recurrent_dropout, return_sequences = True)(encoder_outputs)\n",
        "        encoder_states = [state]\n",
        "    if config.cell_type == \"lstm\":\n",
        "        encoder_outputs, state_h, state_c = keras.layers.LSTM(config.hidden_layer_size, dropout = config.dropout, return_state = True, recurrent_dropout = config.recurrent_dropout, return_sequences = True)(encoder_outputs)\n",
        "        encoder_states = [state_h,state_c]\n",
        "    if config.cell_type == \"gru\":\n",
        "        encoder_outputs, state = keras.layers.GRU(config.hidden_layer_size, dropout = config.dropout, return_state = True, recurrent_dropout = config.recurrent_dropout, return_sequences = True)(encoder_outputs)\n",
        "        encoder_states = [state]\n",
        "\n",
        "    # We set up our decoder to return full output sequences,\n",
        "    # and to return internal states as well. We don't use the\n",
        "    # return states in the training model, but we will use them in inference.\n",
        "\n",
        "    if config.cell_type == \"rnn\":\n",
        "        decoder = keras.layers.SimpleRNN(config.hidden_layer_size, dropout = config.dropout, return_sequences = True, recurrent_dropout = config.recurrent_dropout, return_state = True)\n",
        "        decoder_outputs, state = decoder(decoder_outputs, initial_state = encoder_states)\n",
        "        decoder_states = [state]\n",
        "    if config.cell_type == \"lstm\":\n",
        "        decoder = keras.layers.LSTM(config.hidden_layer_size, dropout = config.dropout, return_sequences = True, recurrent_dropout = config.recurrent_dropout, return_state = True)\n",
        "        decoder_outputs, state_h, state_c = decoder(decoder_outputs, initial_state = encoder_states)\n",
        "        decoder_states = [state_h , state_c]\n",
        "    if config.cell_type == \"gru\":\n",
        "        decoder = keras.layers.GRU(config.hidden_layer_size, dropout = config.dropout, return_sequences = True, recurrent_dropout = config.recurrent_dropout, return_state = True)\n",
        "        decoder_outputs, state = decoder(decoder_outputs, initial_state = encoder_states)\n",
        "        decoder_states = [state]\n",
        "    \n",
        "\n",
        "    # Attention\n",
        "    attention_mech = AttentionLayer()\n",
        "    attention_output, _ = attention_mech([encoder_outputs, decoder_outputs])\n",
        "    decoder_input_concate = keras.layers.Concatenate(axis = -1)([decoder_outputs, attention_output])\n",
        "\n",
        "    #Adding a dense layer\n",
        "    decoder_dense = keras.layers.Dense(num_decoder_tokens, activation = \"softmax\")\n",
        "    decoder_outputs = decoder_dense(decoder_input_concate)\n",
        "\n",
        "    # Define the model that will turn on\n",
        "    # encoder_train_input_data & decoder_train_input_data into decoder_train_target_data\n",
        "\n",
        "    model = keras.Model([encoder_inputs , decoder_inputs] , decoder_outputs)\n",
        "\n",
        "    #Compiling the model\n",
        "    model.compile(optimizer=config.learning_algo , loss = \"categorical_crossentropy\" , metrics=[\"accuracy\"])\n",
        "\n",
        "    #Fitting the model\n",
        "    model.fit(\n",
        "        [encoder_train_input_data, decoder_train_input_data],\n",
        "        decoder_train_target_data,\n",
        "        batch_size = config.batch_size,\n",
        "        epochs = config.epochs,\n",
        "        callbacks = [WandbCallback()]\n",
        "    )\n",
        "\n",
        "    #save the model\n",
        "    model.save(\"seq2seq_2\")\n",
        "\n",
        "    #Calculating validation accuracy using inference on validation data\n",
        "    #val_accuracy = run_inference(encoder_val_input_data, val_input_lexicons, val_target_lexicons, num_decoder_tokens, max_decoder_seq_length, target_token_index, inverse_target_token_index, config.hidden_layer_size ,config.cell_type)\n",
        "    #print(\"VALIDATION ACCURACY :\" , val_accuracy)\n",
        "    #wandb.log({\"val_accuracy\": val_accuracy})\n",
        "\n",
        "    #Calculating test accuracy using inference on test data\n",
        "    #test_accuracy = run_inference(encoder_test_input_data, test_input_lexicons, test_target_lexicons, num_decoder_tokens, max_decoder_seq_length, target_token_index, inverse_target_token_index, config.hidden_layer_size , config.cell_type)\n",
        "    #print(\"TEST ACCURACY :\" , test_accuracy)\n",
        "    # wandb.log({\"test_accuracy\": test_accuracy})\n"
      ]
    },
    {
      "cell_type": "markdown",
      "metadata": {
        "id": "oozOLsvkg1Jt"
      },
      "source": [
        "#Sweep Configuration"
      ]
    },
    {
      "cell_type": "code",
      "execution_count": null,
      "metadata": {
        "id": "iUf1_wUdg1Tn"
      },
      "outputs": [],
      "source": [
        "sweep_config_temp = {\n",
        "  \"name\": \"attention_bayes_1\",\n",
        "\n",
        "  \"method\": \"grid\",\n",
        "\n",
        "  \"metric\": {\n",
        "      \"name\": \"accuracy\",\n",
        "      \"goal\": \"maximize\"  \n",
        "    },\n",
        "    \n",
        "  \"parameters\": {\n",
        "        \"batch_size\": {\n",
        "            \"values\": [256]\n",
        "        },\n",
        "        \"beam_size\": {\n",
        "            \"values\": [0]\n",
        "        },\n",
        "        \"cell_type\": {\n",
        "            \"values\": [\"gru\"]\n",
        "        },\n",
        "        \"decoder_layers\": {\n",
        "            \"values\": [1]\n",
        "        },\n",
        "        \"dropout\": {\n",
        "            \"values\": [0.3]\n",
        "        },\n",
        "        \"embedding_size\": {\n",
        "            \"values\": [256]\n",
        "        },\n",
        "        \"encoder_layers\" :{\n",
        "            \"values\" : [1]\n",
        "        },\n",
        "        \"epochs\": {\n",
        "            \"values\": [25]\n",
        "        },\n",
        "        \"hidden_layer_size\": {\n",
        "            \"values\": [256]\n",
        "        },\n",
        "        \"learning_algo\": {\n",
        "            \"values\": [\"adam\"]\n",
        "        },\n",
        "        \"recurrent_dropout\": {\n",
        "            \"values\": [0.0]\n",
        "        }\n",
        "    }\n",
        "}"
      ]
    },
    {
      "cell_type": "code",
      "execution_count": null,
      "metadata": {
        "colab": {
          "base_uri": "https://localhost:8080/",
          "height": 390
        },
        "id": "yJgKARcCn-t5",
        "outputId": "209865fe-f2cb-4eb4-f36c-6f5dfce81b95"
      },
      "outputs": [
        {
          "output_type": "stream",
          "name": "stdout",
          "text": [
            "Create sweep with ID: 5vrnimpy\n",
            "Sweep URL: https://wandb.ai/cs21m027_cs21m011/DL_ASG_3_temp/sweeps/5vrnimpy\n"
          ]
        },
        {
          "output_type": "stream",
          "name": "stderr",
          "text": [
            "\u001b[34m\u001b[1mwandb\u001b[0m: Agent Starting Run: onntl9za with config:\n",
            "\u001b[34m\u001b[1mwandb\u001b[0m: \tbatch_size: 256\n",
            "\u001b[34m\u001b[1mwandb\u001b[0m: \tbeam_size: 0\n",
            "\u001b[34m\u001b[1mwandb\u001b[0m: \tcell_type: gru\n",
            "\u001b[34m\u001b[1mwandb\u001b[0m: \tdecoder_layers: 1\n",
            "\u001b[34m\u001b[1mwandb\u001b[0m: \tdropout: 0.3\n",
            "\u001b[34m\u001b[1mwandb\u001b[0m: \tembedding_size: 256\n",
            "\u001b[34m\u001b[1mwandb\u001b[0m: \tencoder_layers: 1\n",
            "\u001b[34m\u001b[1mwandb\u001b[0m: \tepochs: 25\n",
            "\u001b[34m\u001b[1mwandb\u001b[0m: \thidden_layer_size: 256\n",
            "\u001b[34m\u001b[1mwandb\u001b[0m: \tlearning_algo: adam\n",
            "\u001b[34m\u001b[1mwandb\u001b[0m: \trecurrent_dropout: 0\n",
            "\u001b[34m\u001b[1mwandb\u001b[0m: Currently logged in as: \u001b[33mcs21m027_cs21m011\u001b[0m (use `wandb login --relogin` to force relogin)\n"
          ]
        },
        {
          "output_type": "display_data",
          "data": {
            "text/plain": [
              "<IPython.core.display.HTML object>"
            ],
            "text/html": [
              "Tracking run with wandb version 0.12.15"
            ]
          },
          "metadata": {}
        },
        {
          "output_type": "display_data",
          "data": {
            "text/plain": [
              "<IPython.core.display.HTML object>"
            ],
            "text/html": [
              "Run data is saved locally in <code>/content/wandb/run-20220502_094748-onntl9za</code>"
            ]
          },
          "metadata": {}
        },
        {
          "output_type": "display_data",
          "data": {
            "text/plain": [
              "<IPython.core.display.HTML object>"
            ],
            "text/html": [
              "Syncing run <strong><a href=\"https://wandb.ai/cs21m027_cs21m011/DL_ASG_3_temp/runs/onntl9za\" target=\"_blank\">divine-sweep-1</a></strong> to <a href=\"https://wandb.ai/cs21m027_cs21m011/DL_ASG_3_temp\" target=\"_blank\">Weights & Biases</a> (<a href=\"https://wandb.me/run\" target=\"_blank\">docs</a>)<br/>Sweep page:  <a href=\"https://wandb.ai/cs21m027_cs21m011/DL_ASG_3_temp/sweeps/5vrnimpy\" target=\"_blank\">https://wandb.ai/cs21m027_cs21m011/DL_ASG_3_temp/sweeps/5vrnimpy</a>"
            ]
          },
          "metadata": {}
        },
        {
          "output_type": "stream",
          "name": "stdout",
          "text": [
            "Epoch 1/25\n",
            " 49/229 [=====>........................] - ETA: 33s - loss: 1.8580 - accuracy: 0.6014"
          ]
        },
        {
          "output_type": "stream",
          "name": "stderr",
          "text": [
            "\u001b[34m\u001b[1mwandb\u001b[0m: Ctrl + C detected. Stopping sweep.\n"
          ]
        }
      ],
      "source": [
        "sweep_id = wandb.sweep(sweep_config_temp, entity=\"cs21m027_cs21m011\", project=\"DL_ASG_3_final_Attention\")\n",
        "wandb.agent(sweep_id, train)"
      ]
    },
    {
      "cell_type": "code",
      "execution_count": null,
      "metadata": {
        "id": "uF9KMdz_ZjgN"
      },
      "outputs": [],
      "source": [
        ""
      ]
    },
    {
      "cell_type": "code",
      "execution_count": null,
      "metadata": {
        "id": "-vyWP0poJG2S"
      },
      "outputs": [],
      "source": [
        ""
      ]
    },
    {
      "cell_type": "code",
      "execution_count": null,
      "metadata": {
        "id": "uqHDWEAVJG-t"
      },
      "outputs": [],
      "source": [
        ""
      ]
    },
    {
      "cell_type": "code",
      "source": [
        "                                                                                                                                                                                                                                                                                                                                                                                                                                                                                                                                                                                                                                                                                                                                                                                                                                                                                                                                                                                                                                                                                                                                                                                                                                                                                                                                                                                                                                                                                                                                                                                                                                                                                                                                                                                                                                                                                                                                                                                                                                                                                                                                                                                                                                                                                                                                                                                                                                                                                                                                                                                                                                                                                                                                                                                                                                                                                                                                                                                                                                                                                                                                                                                                                                                                                                                                                                                                                                                                                                                                                                                                                                                                                                                                                                                                                                                                                                                                                                                                                                                                                                                                                                                                                                                                                                                                                                                                                                                                                                                                                                                                                                                                                                                                                                                                                                                                                                                                                                                                                                                                                                                                                                                                                                                                                                                                                                                                                                                                                                                                                                                                                                                                                                                                                                                                                                                                                                                                                                                                                                                                                                                                                                                                                                                                                                                                                                                                                                                                                                                                                                                                                                                                                                                                                                                                                                                                                                                                                                                                                                                                                                                                                                                                                                                                                                                                                                                                                                                                                                                                                                                                                                                                                                                                                                                                                                                                                                                                                                                                                                                                                                                                                                                                                                                                                                                                                                                                                                                                                                                                                                                                                                                                                                                                                                                                                                                                                                                                                                                                                                                                                                                                                                                                                                                                                                                                                                                                                                                                                                                                                                                                                                                                                                                                                                                                                                                                                                                                                                                                                                                                                                                                                                                                                                                                                                                                                                                                                                                                                                                                                                                                                                                                                                                                                                                                                                                                                                                                                                                                                                                                                                                                                                                                                                                                                                                                                                                                                                                                                                                                                                                                                                                                                                                                                                                                                                                                                                                                                                                                                                                                                                                                                                                                                                                                                                                                                                                                                                                                                                                                                                                                                                                                                                                                                                                                                                                                                                                                                                                                                                                                                                                                                                                                                                                                                                                                                                                                                                                                                                                                                                                                                                                                                                                                                                                                                                                                                                                                                                                                                                                                                                                                                                                                                                                                                                                                                                                                                                                                                                                                                                                                                                                                                                                                                                                                                                                                                                                                                                                                                                                                                                                                                                                                                                                                                                                                                                                                                                                                                                                                                                                                                                                                                                                                                                                                                                                                                                                                                                                                                                                                                                                                                                                                                                                                                                                                                                                                                                                                                                                                                                                                                                                                                                                                                                                                                                                                                                                                                                                                                                                                                                                                                                                                                                                                                                                                                                                                                                                                                                                                                                                                                                                                                                                                                                                                                                                                                                                                                                                                                                                                                                                                                                                                                                                                                                                                                                                                                                                                                                                                                                                                                                                                                                                                                                                                                                                                                                                                                                                                                                                                                                                                                                                                                                                                                                                         "
      ],
      "metadata": {
        "id": "dwVWnnUMqye-"
      },
      "execution_count": null,
      "outputs": []
    }
  ],
  "metadata": {
    "colab": {
      "collapsed_sections": [],
      "name": "Attention (1).ipynb",
      "provenance": [],
      "include_colab_link": true
    },
    "kernelspec": {
      "display_name": "Python 3",
      "name": "python3"
    },
    "language_info": {
      "name": "python"
    },
    "accelerator": "GPU"
  },
  "nbformat": 4,
  "nbformat_minor": 0
}