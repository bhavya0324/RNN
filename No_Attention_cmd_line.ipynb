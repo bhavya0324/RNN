{
  "nbformat": 4,
  "nbformat_minor": 0,
  "metadata": {
    "colab": {
      "name": "No_Attention_Cmd_line.ipynb",
      "provenance": [],
      "collapsed_sections": [],
      "include_colab_link": true
    },
    "kernelspec": {
      "name": "python3",
      "display_name": "Python 3"
    },
    "language_info": {
      "name": "python"
    },
    "accelerator": "GPU"
  },
  "cells": [
    {
      "cell_type": "markdown",
      "metadata": {
        "id": "view-in-github",
        "colab_type": "text"
      },
      "source": [
        "<a href=\"https://colab.research.google.com/github/hemanths03/CS6910_Assignment_3/blob/main/No_Attention_cmd_line.ipynb\" target=\"_parent\"><img src=\"https://colab.research.google.com/assets/colab-badge.svg\" alt=\"Open In Colab\"/></a>"
      ]
    },
    {
      "cell_type": "markdown",
      "source": [
        "#Importing Required Libraries"
      ],
      "metadata": {
        "id": "z37HJ5CU5bM7"
      }
    },
    {
      "cell_type": "code",
      "source": [
        "import pandas as pd\n",
        "import numpy as np\n",
        "from random import sample\n",
        "\n",
        "from tensorflow import keras"
      ],
      "metadata": {
        "id": "m59A7f2p5bVn"
      },
      "execution_count": 1,
      "outputs": []
    },
    {
      "cell_type": "markdown",
      "source": [
        "#WandB Login"
      ],
      "metadata": {
        "id": "385sAN9E5i5N"
      }
    },
    {
      "cell_type": "code",
      "source": [
        "!pip install wandb -qqq\n",
        "import wandb\n",
        "wandb.login()\n",
        "\n",
        "from wandb.keras import WandbCallback"
      ],
      "metadata": {
        "colab": {
          "base_uri": "https://localhost:8080/",
          "height": 142
        },
        "id": "bQzB1BTz5f5h",
        "outputId": "9b1765a2-c9b4-42c0-9577-c414cf8da47b"
      },
      "execution_count": 2,
      "outputs": [
        {
          "output_type": "stream",
          "name": "stdout",
          "text": [
            "\u001b[K     |████████████████████████████████| 1.8 MB 4.5 MB/s \n",
            "\u001b[K     |████████████████████████████████| 144 kB 41.1 MB/s \n",
            "\u001b[K     |████████████████████████████████| 181 kB 39.3 MB/s \n",
            "\u001b[K     |████████████████████████████████| 63 kB 893 kB/s \n",
            "\u001b[?25h  Building wheel for pathtools (setup.py) ... \u001b[?25l\u001b[?25hdone\n"
          ]
        },
        {
          "output_type": "display_data",
          "data": {
            "text/plain": [
              "<IPython.core.display.Javascript object>"
            ],
            "application/javascript": [
              "\n",
              "        window._wandbApiKey = new Promise((resolve, reject) => {\n",
              "            function loadScript(url) {\n",
              "            return new Promise(function(resolve, reject) {\n",
              "                let newScript = document.createElement(\"script\");\n",
              "                newScript.onerror = reject;\n",
              "                newScript.onload = resolve;\n",
              "                document.body.appendChild(newScript);\n",
              "                newScript.src = url;\n",
              "            });\n",
              "            }\n",
              "            loadScript(\"https://cdn.jsdelivr.net/npm/postmate/build/postmate.min.js\").then(() => {\n",
              "            const iframe = document.createElement('iframe')\n",
              "            iframe.style.cssText = \"width:0;height:0;border:none\"\n",
              "            document.body.appendChild(iframe)\n",
              "            const handshake = new Postmate({\n",
              "                container: iframe,\n",
              "                url: 'https://wandb.ai/authorize'\n",
              "            });\n",
              "            const timeout = setTimeout(() => reject(\"Couldn't auto authenticate\"), 5000)\n",
              "            handshake.then(function(child) {\n",
              "                child.on('authorize', data => {\n",
              "                    clearTimeout(timeout)\n",
              "                    resolve(data)\n",
              "                });\n",
              "            });\n",
              "            })\n",
              "        });\n",
              "    "
            ]
          },
          "metadata": {}
        },
        {
          "output_type": "stream",
          "name": "stderr",
          "text": [
            "\u001b[34m\u001b[1mwandb\u001b[0m: Appending key for api.wandb.ai to your netrc file: /root/.netrc\n"
          ]
        }
      ]
    },
    {
      "cell_type": "markdown",
      "source": [
        "#Mounting the google drive"
      ],
      "metadata": {
        "id": "YmBGN7t15meQ"
      }
    },
    {
      "cell_type": "code",
      "source": [
        "from google.colab import drive\n",
        "drive.mount('/content/gdrive')"
      ],
      "metadata": {
        "colab": {
          "base_uri": "https://localhost:8080/"
        },
        "id": "QQnf1Q_z5q0v",
        "outputId": "6e68a6c2-785e-49ab-aa30-8fd29cfcf3bf"
      },
      "execution_count": 3,
      "outputs": [
        {
          "output_type": "stream",
          "name": "stdout",
          "text": [
            "Mounted at /content/gdrive\n"
          ]
        }
      ]
    },
    {
      "cell_type": "markdown",
      "source": [
        "#Load the datasets"
      ],
      "metadata": {
        "id": "tyt14pvD6DP9"
      }
    },
    {
      "cell_type": "code",
      "source": [
        "train_dataset = pd.read_csv('/content/gdrive/MyDrive/dakshina_dataset_v1.0/te/lexicons/te.translit.sampled.train.tsv', sep = '\\t', header = None)\n",
        "val_dataset = pd.read_csv('/content/gdrive/MyDrive/dakshina_dataset_v1.0/te/lexicons/te.translit.sampled.dev.tsv', sep = '\\t', header = None)\n",
        "test_dataset = pd.read_csv('/content/gdrive/MyDrive/dakshina_dataset_v1.0/te/lexicons/te.translit.sampled.test.tsv', sep = '\\t', header = None)"
      ],
      "metadata": {
        "id": "FDRIrX6y6DbR"
      },
      "execution_count": 4,
      "outputs": []
    },
    {
      "cell_type": "markdown",
      "source": [
        "#Preprocessing the dataset into required format"
      ],
      "metadata": {
        "id": "6i6X7Rct5rCQ"
      }
    },
    {
      "cell_type": "code",
      "source": [
        "def preprocess_data():\n",
        "\n",
        "    #Declaring some required variables\n",
        "\n",
        "    train_input_lexicons = []\n",
        "    train_target_lexicons = []\n",
        "    val_input_lexicons = []\n",
        "    val_target_lexicons = []\n",
        "    test_input_lexicons = []\n",
        "    test_target_lexicons = []\n",
        "\n",
        "    #Splitting the datasets in input_lexicons and target_lexicons\n",
        "\n",
        "    for i in range(len(train_dataset)):\n",
        "      train_input_lexicons.append(str(train_dataset[1][i]))\n",
        "      train_target_lexicons.append(\"\\t\" + str(train_dataset[0][i])+\"\\n\")\n",
        "\n",
        "    for i in range(len(val_dataset)):\n",
        "      val_input_lexicons.append(str(val_dataset[1][i]))\n",
        "      val_target_lexicons.append(\"\\t\" + str(val_dataset[0][i])+\"\\n\")\n",
        "\n",
        "    for i in range(len(test_dataset)):\n",
        "      test_input_lexicons.append(str(test_dataset[1][i]))\n",
        "      test_target_lexicons.append(\"\\t\" + str(test_dataset[0][i])+\"\\n\")\n",
        "\n",
        "\n",
        "    #Creating unique input and target character sets\n",
        "\n",
        "    input_characters = set()\n",
        "    input_characters.add(' ')\n",
        "    target_characters = set()\n",
        "    target_characters.add(' ')\n",
        "\n",
        "    #union of all input words\n",
        "\n",
        "    ip_words = train_input_lexicons + val_input_lexicons + test_input_lexicons\n",
        "\n",
        "    #Union of all target words\n",
        "\n",
        "    op_words = train_target_lexicons + val_target_lexicons + test_target_lexicons\n",
        "\n",
        "    #Adding unique characters in their respective sets\n",
        "\n",
        "    for word in ip_words:\n",
        "      for char in word:\n",
        "        input_characters.add(char)\n",
        "\n",
        "    for word in op_words:\n",
        "      for char in word:\n",
        "        target_characters.add(char)\n",
        "\n",
        "    #Sorting the list\n",
        "\n",
        "    input_characters = sorted(list(input_characters))\n",
        "    num_encoder_tokens = len(input_characters)\n",
        "\n",
        "    target_characters = sorted(list(target_characters))\n",
        "    num_decoder_tokens = len(target_characters)\n",
        "\n",
        "    #Find the max sequence length input and target\n",
        "\n",
        "    max_encoder_seq_length = max([len(word) for word in ip_words])\n",
        "    max_decoder_seq_length = max([len(word) for word in op_words])\n",
        "\n",
        "    #Printing the summary :\n",
        "\n",
        "    print(\"Summary of the dataset :\")\n",
        "    print(\"Number of train samples :\" , len(train_input_lexicons))\n",
        "    print(\"Number of val samples :\" , len(val_input_lexicons))\n",
        "    print(\"Number of test samples :\" , len(test_input_lexicons))\n",
        "    print(\"Number of unique input tokens :\" , num_encoder_tokens)\n",
        "    print(\"Number of unique output tokens :\" , num_decoder_tokens)\n",
        "    print(\"Max sequence length for inputs:\" , max_encoder_seq_length)\n",
        "    print(\"Max sequence length for outputs:\" , max_decoder_seq_length)\n",
        "\n",
        "    #Creating a dictionary for input words and target words\n",
        "\n",
        "    input_token_index = dict([(char, i) for i, char in enumerate(input_characters)])\n",
        "    target_token_index = dict([(char, i) for i, char in enumerate(target_characters)])\n",
        "\n",
        "\n",
        "    encoder_train_input_data = np.zeros((len(train_input_lexicons), max_encoder_seq_length), dtype=\"float32\")\n",
        "\n",
        "    encoder_val_input_data = np.zeros((len(val_input_lexicons), max_encoder_seq_length), dtype=\"float32\")\n",
        "\n",
        "    encoder_test_input_data = np.zeros((len(test_input_lexicons), max_encoder_seq_length), dtype=\"float32\")\n",
        "\n",
        "\n",
        "    decoder_train_input_data = np.zeros((len(train_input_lexicons), max_decoder_seq_length), dtype=\"float32\")\n",
        "    decoder_train_target_data = np.zeros((len(train_input_lexicons), max_decoder_seq_length, num_decoder_tokens ), dtype=\"float32\")\n",
        "\n",
        "   \n",
        "    decoder_val_input_data = np.zeros((len(val_input_lexicons), max_decoder_seq_length), dtype=\"float32\")\n",
        "    decoder_val_target_data = np.zeros((len(val_input_lexicons), max_decoder_seq_length, num_decoder_tokens), dtype=\"float32\")\n",
        "\n",
        "    \n",
        "    #TRAIN DATA\n",
        "\n",
        "    for i, (input_text, target_text) in enumerate(zip(train_input_lexicons, train_target_lexicons)):\n",
        "      for t, char in enumerate(input_text):\n",
        "          encoder_train_input_data[i, t] = input_token_index[char]\n",
        "      encoder_train_input_data[i, t + 1 :] = input_token_index[' ']\n",
        "      for t, char in enumerate(target_text):\n",
        "          # decoder_target_data is ahead of decoder_input_data by one timestep\n",
        "          decoder_train_input_data[i, t] = target_token_index[char]\n",
        "          if t > 0:\n",
        "              # decoder_target_data will be ahead by one timestep\n",
        "              # and will not include the start character.\n",
        "              decoder_train_target_data[i, t - 1, target_token_index[char]] = 1.0\n",
        "      decoder_train_input_data[i, t + 1 :] = target_token_index[' ']\n",
        "      decoder_train_target_data[i, t:, target_token_index[' ']] = 1.0\n",
        "\n",
        "    #VALIDATION DATA\n",
        "\n",
        "    for i, (input_text, target_text) in enumerate(zip(val_input_lexicons, val_target_lexicons)):\n",
        "      for t, char in enumerate(input_text):\n",
        "          encoder_val_input_data[i, t] = input_token_index[char]\n",
        "      encoder_val_input_data[i, t + 1 :] = input_token_index[' ']\n",
        "      for t, char in enumerate(target_text):\n",
        "          # decoder_target_data is ahead of decoder_input_data by one timestep\n",
        "          decoder_val_input_data[i, t] = target_token_index[char]\n",
        "          if t > 0:\n",
        "              # decoder_target_data will be ahead by one timestep\n",
        "              # and will not include the start character.\n",
        "              decoder_val_target_data[i, t - 1, target_token_index[char]] = 1.0\n",
        "      decoder_val_input_data[i, t + 1 :] = target_token_index[' ']\n",
        "      decoder_val_target_data[i, t:, target_token_index[' ']] = 1.0\n",
        "\n",
        "    #TEST DATA\n",
        "\n",
        "    for i, input_text in enumerate(test_input_lexicons):\n",
        "      for t, char in enumerate(input_text):\n",
        "          encoder_test_input_data[i, t] = input_token_index[char]\n",
        "      encoder_test_input_data[i, t + 1 :] = input_token_index[' ']\n",
        "      \n",
        "\n",
        "    inverse_input_token_index = dict((i, char) for char, i in input_token_index.items())\n",
        "    inverse_target_token_index = dict((i, char) for char, i in target_token_index.items())\n",
        "\n",
        "    return ((encoder_train_input_data , encoder_val_input_data , encoder_test_input_data),\n",
        "    (decoder_train_input_data , decoder_val_input_data),\n",
        "    (decoder_train_target_data , decoder_val_target_data),\n",
        "    (val_input_lexicons , test_input_lexicons),\n",
        "    (val_target_lexicons , test_target_lexicons),\n",
        "    (num_encoder_tokens , num_decoder_tokens),\n",
        "    (max_encoder_seq_length , max_decoder_seq_length),\n",
        "    (target_token_index , inverse_input_token_index , inverse_target_token_index))"
      ],
      "metadata": {
        "id": "lDYTVYFU5_us"
      },
      "execution_count": 5,
      "outputs": []
    },
    {
      "cell_type": "markdown",
      "source": [
        "#Load the preprocessed data"
      ],
      "metadata": {
        "id": "ddNYxiS8ZSlz"
      }
    },
    {
      "cell_type": "code",
      "source": [
        "((encoder_train_input_data , encoder_val_input_data , encoder_test_input_data),\n",
        " (decoder_train_input_data , decoder_val_input_data),\n",
        " (decoder_train_target_data , decoder_val_target_data),\n",
        " (val_input_lexicons , test_input_lexicons),\n",
        " (val_target_lexicons , test_target_lexicons),\n",
        " (num_encoder_tokens , num_decoder_tokens),\n",
        " (max_encoder_seq_length , max_decoder_seq_length),\n",
        " (target_token_index , inverse_input_token_index , inverse_target_token_index)) = preprocess_data()"
      ],
      "metadata": {
        "colab": {
          "base_uri": "https://localhost:8080/"
        },
        "id": "4qubNseHZWGm",
        "outputId": "1b87ae73-d228-4258-9be9-0cc9086f85c7"
      },
      "execution_count": 6,
      "outputs": [
        {
          "output_type": "stream",
          "name": "stdout",
          "text": [
            "Summary of the dataset :\n",
            "Number of train samples : 58550\n",
            "Number of val samples : 5683\n",
            "Number of test samples : 5747\n",
            "Number of unique input tokens : 27\n",
            "Number of unique output tokens : 66\n",
            "Max sequence length for inputs: 25\n",
            "Max sequence length for outputs: 22\n"
          ]
        }
      ]
    },
    {
      "cell_type": "code",
      "source": [
        ""
      ],
      "metadata": {
        "id": "nrG6C4YV5rga"
      },
      "execution_count": 6,
      "outputs": []
    },
    {
      "cell_type": "markdown",
      "source": [
        "#Sigmoid function"
      ],
      "metadata": {
        "id": "37oNFYzc51pX"
      }
    },
    {
      "cell_type": "code",
      "source": [
        "#Sigmoid function\n",
        "def sigmoid(x):\n",
        "    temp = []\n",
        "    for i in range(len(x)):\n",
        "      temp.append(1/(1 + np.exp(-x[i])))\n",
        "    return list(temp)"
      ],
      "metadata": {
        "id": "2KvDLggs53tc"
      },
      "execution_count": 7,
      "outputs": []
    },
    {
      "cell_type": "markdown",
      "source": [
        "#Decode sequence along with Beam Search Decoder "
      ],
      "metadata": {
        "id": "8pFYQOVw538u"
      }
    },
    {
      "cell_type": "code",
      "source": [
        "def decode_sequence(input_seq , encoder_model , decoder_model , decoder_cell_index , target_token_index , inverse_target_token_index , max_decoder_seq_length , beam_size):\n",
        "    #Encode the input as state vectors.\n",
        "    states_value = [encoder_model.predict(input_seq)] * len(decoder_cell_index)\n",
        "\n",
        "    #Generate empty target sequence of length 1.\n",
        "    target_seq = np.zeros((1, 1))\n",
        "\n",
        "    #Populate the first character of target sequence with the start character.\n",
        "    target_seq[0, 0] = target_token_index[\"\\t\"]\n",
        "\n",
        "    sequences = [[0.0, 0, states_value, target_seq,  list(),list()]]\n",
        "        \n",
        "    #Sampling loop for a batch of sequences\n",
        "    stop_condition = False\n",
        "    decoded_sentence = \"\"  \n",
        "\n",
        "    while not stop_condition:\n",
        "\n",
        "        if beam_size == 0:\n",
        "\n",
        "            output = decoder_model.predict([target_seq] + states_value)\n",
        "            output_tokens, states_value = output[0], output[1:]\n",
        "\n",
        "            # Sample a token\n",
        "            sampled_token_index = np.argmax(output_tokens[0, -1, :])\n",
        "\n",
        "            sampled_char = inverse_target_token_index[sampled_token_index]\n",
        "\n",
        "            decoded_sentence += sampled_char\n",
        "\n",
        "            # Exit condition: either hit max length\n",
        "            # or find stop character.\n",
        "\n",
        "            if sampled_char == \"\\n\" or len(decoded_sentence) > max_decoder_seq_length:\n",
        "                stop_condition = True\n",
        "\n",
        "            # Update the target sequence (of length 1).\n",
        "            target_seq = np.zeros((1, 1))\n",
        "            target_seq[0, 0] = sampled_token_index \n",
        "\n",
        "        else:\n",
        "\n",
        "            #Temporary list\n",
        "            temp_list = list()\n",
        "            \n",
        "            #Beam search Decoder\n",
        "            for i in range(len(sequences)):\n",
        "\n",
        "              output = decoder_model.predict([sequences[i][3]] + sequences[i][2])\n",
        "              output_tokens, states_value = output[0], output[1:]\n",
        "              seq_prob = output_tokens[0,-1,:]\n",
        "                  \n",
        "              score, flag, sv, t_seq, seq, dec_word = sequences[i]\n",
        "                  \n",
        "              if flag == 0:\n",
        "                for j in range(len(inverse_target_token_index)):\n",
        "                  char = inverse_target_token_index[j]\n",
        "\n",
        "                  target_seq = np.zeros((1, 1))\n",
        "                  target_seq[0, 0] = j\n",
        "\n",
        "                  chr = [score - np.log(seq_prob[j]), 0, states_value, target_seq,  seq + [j] , dec_word + [char] ]\n",
        "                  temp_list.append(chr)\n",
        "                \n",
        "            ordered_list = sorted(temp_list, key=lambda x:x[0])\n",
        "\n",
        "            minlen = min(beam_size, len(ordered_list))\n",
        "\n",
        "            sequences = ordered_list[:minlen]\n",
        "\n",
        "            stop_condition = True\n",
        "              \n",
        "            for i in range(len(sequences)):\n",
        "                  \n",
        "                score, flag, sv, t_seq, seq, dec_word = sequences[i]\n",
        "\n",
        "                if dec_word[-1] == \"\\n\": flag = 1\n",
        "\n",
        "                if len(dec_word) > max_decoder_seq_length : flag = 1\n",
        "\n",
        "                sequences[i] = [score, flag, sv, t_seq, seq, dec_word].copy()\n",
        "\n",
        "                if flag == 0: stop_condition = False\n",
        "\n",
        "            if sequences[0][-1][-1]==\"\\n\": stop_condition = True\n",
        "\n",
        "    if beam_size != 0 : \n",
        "      decoded_sentence = ''.join(sequences[0][5])\n",
        "\n",
        "    return decoded_sentence"
      ],
      "metadata": {
        "id": "0CVAwjF754G8"
      },
      "execution_count": 8,
      "outputs": []
    },
    {
      "cell_type": "markdown",
      "source": [
        "#Inference call to calculate the accuracy\n",
        "1.)encode input and retrieve initial decoder state\n",
        "\n",
        "2.)run one step of decoder with this initial state and a \"start of sequence\" token as target. Output will be the next target token.\n",
        "\n",
        "3.)Repeat with the current target token and current states"
      ],
      "metadata": {
        "id": "QtrKpuVg54Qe"
      }
    },
    {
      "cell_type": "code",
      "source": [
        "def run_inference(encoder_test_input_data, test_input_lexicons, test_target_lexicons , num_decoder_tokens, max_decoder_seq_length, target_token_index, inverse_target_token_index, enc_latent_dims, dec_latent_dims, cell_type, beam_size):\n",
        "      # Define sampling models\n",
        "      # Restore the model and construct the encoder and decoder.\n",
        "      model = keras.models.load_model(\"seq2seq\")\n",
        "\n",
        "      #Declare index variable for encoder embedding and decoder embedding \n",
        "      encoder_embedding_index = -1\n",
        "      decoder_embedding_index = -1\n",
        "\n",
        "      dense_layer_index = -1\n",
        "\n",
        "      encoder_cell_count = 0\n",
        "\n",
        "      encoder_cell_index = []\n",
        "      decoder_cell_index = []\n",
        "\n",
        "      num_encoder_layers = len(enc_latent_dims)\n",
        "      num_decoder_layers = len(dec_latent_dims)\n",
        "\n",
        "      count = 0\n",
        "      size_ = len(test_input_lexicons)\n",
        "\n",
        "      predictions_vanilla_RNN = open(\"predictions_vanilla_RNN.csv\", \"w\", encoding='utf-8')\n",
        "      predictions_vanilla_RNN.write(\"Input Word,Predicted Word,True Word\\n\")\n",
        "\n",
        "      for i, layer in enumerate(model.layers):\n",
        "          #For cell_type layer  \n",
        "          if cell_type in layer.name :\n",
        "            if encoder_cell_count < num_encoder_layers :\n",
        "              encoder_cell_index.append(i)\n",
        "              encoder_cell_count += 1\n",
        "            else :\n",
        "              decoder_cell_index.append(i)\n",
        "\n",
        "          #For embedding layer\n",
        "          if \"embedding\" in layer.name :\n",
        "            if encoder_embedding_index < 0 :\n",
        "              encoder_embedding_index = i\n",
        "            else :\n",
        "              decoder_embedding_index = i\n",
        "          \n",
        "          #For Dense layer\n",
        "          if \"dense\" in layer.name :\n",
        "            dense_layer_index = i\n",
        "\n",
        "      #Defining the encoder\n",
        "      encoder_inputs = model.input[0] #input_1\n",
        "\n",
        "      if cell_type == \"rnn\" or cell_type == \"gru\" :\n",
        "        encoder_outputs , state = model.layers[encoder_cell_index[-1]].output\n",
        "        encoder_model = keras.Model(encoder_inputs , [state])\n",
        "      elif cell_type == \"lstm\" :\n",
        "        encoder_output , state_h_enc , state_c_enc = model.layers[encoder_cell_index[-1]].output\n",
        "        encoder_model = keras.Model(encoder_inputs , [state_h_enc , state_c_enc])\n",
        "      else :\n",
        "         print(\"Write the Required cell type encoder definition here...!\")\n",
        "         return\n",
        "\n",
        "      #Defining the Decoder\n",
        "      decoder_inputs = model.input[1]  # input_2\n",
        "      decoder_outputs =  model.layers[decoder_embedding_index](decoder_inputs)\n",
        "\n",
        "      decoder_states_inputs =  []\n",
        "      decoder_states = []\n",
        "\n",
        "      #Decoder\n",
        "      for i in range(len(decoder_cell_index)):\n",
        "\n",
        "          if cell_type == \"rnn\" or cell_type == \"gru\":\n",
        "              state = keras.Input(shape = (dec_latent_dims[i], ))\n",
        "              current_states_inputs = [state]\n",
        "              decoder_outputs, state = model.layers[decoder_cell_index[i]](decoder_outputs, initial_state = current_states_inputs)\n",
        "              decoder_states += [state]\n",
        "\n",
        "          elif cell_type == \"lstm\":\n",
        "              state_h_dec, state_c_dec = keras.Input(shape = (dec_latent_dims[i],)),  keras.Input(shape = (dec_latent_dims[i],))\n",
        "              current_states_inputs = [state_h_dec, state_c_dec]\n",
        "              decoder_outputs, state_h_dec,state_c_dec = model.layers[decoder_cell_index[i]](decoder_outputs, initial_state = current_states_inputs)\n",
        "              decoder_states += [state_h_dec, state_c_dec]\n",
        "\n",
        "          decoder_states_inputs += current_states_inputs\n",
        "\n",
        "      # Dense layer\n",
        "      decoder_outputs = model.layers[dense_layer_index](decoder_outputs)\n",
        "\n",
        "      # Decoder model\n",
        "      decoder_model = keras.Model([decoder_inputs] + decoder_states_inputs, [decoder_outputs] + decoder_states)\n",
        "\n",
        "\n",
        "      for seq_index in range(size_):        \n",
        "          input_seq = encoder_test_input_data[seq_index : seq_index + 1]\n",
        "\n",
        "          decoded_word = decode_sequence(input_seq , encoder_model , decoder_model , decoder_cell_index , target_token_index , inverse_target_token_index , max_decoder_seq_length , beam_size)\n",
        "\n",
        "          orig_word = test_target_lexicons[seq_index][1:]\n",
        "\n",
        "          predictions_vanilla_RNN.write(test_input_lexicons[seq_index] + \",\" + decoded_word[:-1] + \",\" + orig_word[:-1] + \"\\n\")\n",
        "          \n",
        "          if(orig_word == decoded_word): count += 1\n",
        "\n",
        "          if(seq_index % 100 == 0): \n",
        "            print(\"current index is \"+str(seq_index)+\"/5683 \\n\")\n",
        "\n",
        "      return count / size_"
      ],
      "metadata": {
        "id": "y63myj1654bZ"
      },
      "execution_count": 13,
      "outputs": []
    },
    {
      "cell_type": "markdown",
      "source": [
        "#Building an RNN Model"
      ],
      "metadata": {
        "id": "iJVhJdbBf4WU"
      }
    },
    {
      "cell_type": "code",
      "source": [
        "def train():\n",
        "\n",
        "    np.random.seed(77)\n",
        "\n",
        "    hidden_layer_size = int(input('enter size of hidden layer : '))\n",
        "    encoder_layers = int(input('enter number of encoder layers : '))\n",
        "    decoder_layers = encoder_layers\n",
        "    embedding_size = int(input('enter embedding size : '))\n",
        "    cell_type = input('enter cell type : ')\n",
        "    dropout = float(input('enter dropout : '))\n",
        "    beam_size = int(input('enter beam size : '))\n",
        "    recurrent_dropout = float(input('enter recurrent dropout value : '))\n",
        "    learning_algo = input('enter learning algo, adam or rmsprop : ')\n",
        "    batch_size = int(input('enter batch size : '))\n",
        "    epochs = int(input('enter number of epochs : '))\n",
        "\n",
        "\n",
        "    #Set the variables\n",
        "    enc_latent_dims = [hidden_layer_size] * encoder_layers\n",
        "    dec_latent_dims  = [hidden_layer_size] * decoder_layers\n",
        "\n",
        "    #Define input sequence and Setting the Encoder\n",
        "    encoder_inputs = keras.Input(shape = (None, ))\n",
        "    encoder_outputs = keras.layers.Embedding(input_dim = num_encoder_tokens, output_dim = embedding_size, input_length = max_encoder_seq_length)(encoder_inputs)\n",
        "\n",
        "    #Setting the Decoder\n",
        "    decoder_inputs = keras.Input(shape=(None, ))\n",
        "    decoder_outputs = keras.layers.Embedding(input_dim = num_decoder_tokens, output_dim = embedding_size, input_length = max_decoder_seq_length)(decoder_inputs)\n",
        "\n",
        "    # We discard encoder_outputs and only keep the states.\n",
        "    # Set up the decoder, using encoder_states as initial state.\n",
        "    encoder_states = list()\n",
        "\n",
        "    for i in range(len(enc_latent_dims)):\n",
        "        if cell_type == \"rnn\":\n",
        "            encoder_outputs, state = keras.layers.SimpleRNN(enc_latent_dims[i], dropout = dropout, return_state = True, recurrent_dropout = recurrent_dropout, return_sequences = True)(encoder_outputs)\n",
        "            encoder_states = [state]\n",
        "        if cell_type == \"lstm\":\n",
        "            encoder_outputs, state_h, state_c = keras.layers.LSTM(enc_latent_dims[i], dropout = dropout, return_state = True, recurrent_dropout = recurrent_dropout, return_sequences = True)(encoder_outputs)\n",
        "            encoder_states = [state_h,state_c]\n",
        "        if cell_type == \"gru\":\n",
        "            encoder_outputs, state = keras.layers.GRU(enc_latent_dims[i], dropout = dropout, return_state = True, recurrent_dropout = recurrent_dropout, return_sequences = True)(encoder_outputs)\n",
        "            encoder_states = [state]\n",
        "\n",
        "    # We set up our decoder to return full output sequences,\n",
        "    # and to return internal states as well. We don't use the\n",
        "    # return states in the training model, but we will use them in inference.\n",
        "    decoder_states = encoder_states.copy()\n",
        "\n",
        "    for j in range(len(dec_latent_dims)):\n",
        "        if cell_type == \"rnn\":\n",
        "            decoder = keras.layers.SimpleRNN(dec_latent_dims[i], dropout = dropout, return_sequences = True, recurrent_dropout = recurrent_dropout, return_state = True)\n",
        "            decoder_outputs, state = decoder(decoder_outputs, initial_state = decoder_states)\n",
        "        if cell_type == \"lstm\":\n",
        "            decoder = keras.layers.LSTM(dec_latent_dims[i], dropout = dropout, return_sequences = True, recurrent_dropout = recurrent_dropout, return_state = True)\n",
        "            decoder_outputs, state_h, state_c = decoder(decoder_outputs, initial_state = decoder_states)\n",
        "        if cell_type == \"gru\":\n",
        "            decoder = keras.layers.GRU(dec_latent_dims[i], dropout = dropout, return_sequences = True, recurrent_dropout = recurrent_dropout, return_state = True)\n",
        "            decoder_outputs, state = decoder(decoder_outputs, initial_state = decoder_states)\n",
        "    \n",
        "    #Adding a dense layer\n",
        "    decoder_dense = keras.layers.Dense(num_decoder_tokens, activation = \"softmax\")\n",
        "    decoder_outputs = decoder_dense(decoder_outputs)\n",
        "\n",
        "    # Define the model that will turn on\n",
        "    # encoder_train_input_data & decoder_train_input_data into decoder_train_target_data\n",
        "\n",
        "    model = keras.Model([encoder_inputs , decoder_inputs] , decoder_outputs)\n",
        "\n",
        "    #Compiling the model\n",
        "    model.compile(optimizer=learning_algo , loss = \"categorical_crossentropy\" , metrics=[\"accuracy\"])\n",
        "\n",
        "    #Fitting the model\n",
        "    model.fit(\n",
        "        [encoder_train_input_data, decoder_train_input_data],\n",
        "        decoder_train_target_data,\n",
        "        batch_size = batch_size,\n",
        "        epochs = epochs,\n",
        "        #callbacks = [WandbCallback()]\n",
        "    )\n",
        "\n",
        "    #save the model\n",
        "    model.save(\"seq2seq\")\n",
        "\n",
        "    #Calculating validation accuracy using inference on validation data\n",
        "    val_accuracy = run_inference(encoder_val_input_data, val_input_lexicons, val_target_lexicons, num_decoder_tokens, max_decoder_seq_length, target_token_index, inverse_target_token_index, enc_latent_dims, dec_latent_dims, cell_type, beam_size)\n",
        "    print(\"VALIDATION ACCURACY :\" , val_accuracy)\n",
        "    #wandb.log({\"val_accuracy\": val_accuracy})\n",
        "\n",
        "    #Calculating test accuracy using inference on test data\n",
        "    test_accuracy = run_inference(encoder_test_input_data, test_input_lexicons, test_target_lexicons, num_decoder_tokens, max_decoder_seq_length, target_token_index, inverse_target_token_index, enc_latent_dims, dec_latent_dims, cell_type, beam_size)\n",
        "    print(\"TEST ACCURACY :\" , test_accuracy)\n",
        "    #wandb.log({\"test_accuracy\": test_accuracy})\n"
      ],
      "metadata": {
        "id": "8aLBHVDNdtwl"
      },
      "execution_count": 11,
      "outputs": []
    },
    {
      "cell_type": "markdown",
      "source": [
        "#Start the Execution"
      ],
      "metadata": {
        "id": "UmY0NrY_FUPX"
      }
    },
    {
      "cell_type": "code",
      "source": [
        "train()"
      ],
      "metadata": {
        "id": "OGHqgNI5ZeRu"
      },
      "execution_count": 13,
      "outputs": []
    },
    {
      "cell_type": "code",
      "source": [
        ""
      ],
      "metadata": {
        "id": "EEfuwzsJZeUM"
      },
      "execution_count": null,
      "outputs": []
    },
    {
      "cell_type": "code",
      "source": [
        ""
      ],
      "metadata": {
        "id": "uF9KMdz_ZjgN"
      },
      "execution_count": null,
      "outputs": []
    },
    {
      "cell_type": "code",
      "source": [
        ""
      ],
      "metadata": {
        "id": "-vyWP0poJG2S"
      },
      "execution_count": null,
      "outputs": []
    },
    {
      "cell_type": "code",
      "source": [
        ""
      ],
      "metadata": {
        "id": "uqHDWEAVJG-t"
      },
      "execution_count": null,
      "outputs": []
    }
  ]
}