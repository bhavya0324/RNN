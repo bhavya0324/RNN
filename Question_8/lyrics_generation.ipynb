{
  "cells": [
    {
      "cell_type": "markdown",
      "metadata": {
        "id": "view-in-github",
        "colab_type": "text"
      },
      "source": [
        "<a href=\"https://colab.research.google.com/github/hemanths03/CS6910_Assignment_3/blob/main/Question_8/lyrics_generation.ipynb\" target=\"_parent\"><img src=\"https://colab.research.google.com/assets/colab-badge.svg\" alt=\"Open In Colab\"/></a>"
      ]
    },
    {
      "cell_type": "code",
      "execution_count": 1,
      "metadata": {
        "colab": {
          "base_uri": "https://localhost:8080/"
        },
        "id": "SbDyLeTlUtzF",
        "outputId": "89ec0b8e-3cdf-40c3-fc38-733fe3497fbd"
      },
      "outputs": [
        {
          "output_type": "stream",
          "name": "stdout",
          "text": [
            "Mounted at /content/drive\n"
          ]
        }
      ],
      "source": [
        "from google.colab import drive\n",
        "drive.mount('/content/drive')"
      ]
    },
    {
      "cell_type": "code",
      "execution_count": 2,
      "metadata": {
        "colab": {
          "base_uri": "https://localhost:8080/"
        },
        "id": "JuJmHpOPVMFV",
        "outputId": "a7052b25-2932-4570-b534-4c2e5528b621"
      },
      "outputs": [
        {
          "output_type": "stream",
          "name": "stdout",
          "text": [
            "drive  sample_data\n"
          ]
        }
      ],
      "source": [
        "! ls"
      ]
    },
    {
      "cell_type": "markdown",
      "source": [
        "## Changing directory"
      ],
      "metadata": {
        "id": "x4ZEHKzwqflg"
      }
    },
    {
      "cell_type": "code",
      "execution_count": 3,
      "metadata": {
        "colab": {
          "base_uri": "https://localhost:8080/"
        },
        "id": "qPeIG62eVY_N",
        "outputId": "e94f757c-514c-49dc-82f2-f690194613af"
      },
      "outputs": [
        {
          "output_type": "stream",
          "name": "stdout",
          "text": [
            "/content/drive/MyDrive/lyrics\n"
          ]
        }
      ],
      "source": [
        "%cd /content/drive/MyDrive/lyrics"
      ]
    },
    {
      "cell_type": "markdown",
      "source": [
        "#Cloning hugging face repository into the drive in above changed path"
      ],
      "metadata": {
        "id": "CLcojz5pq29D"
      }
    },
    {
      "cell_type": "code",
      "execution_count": 4,
      "metadata": {
        "colab": {
          "base_uri": "https://localhost:8080/"
        },
        "id": "2gmd1IX-VrHG",
        "outputId": "01c78a1c-9056-48a9-c62a-e3b4498a6208"
      },
      "outputs": [
        {
          "output_type": "stream",
          "name": "stdout",
          "text": [
            "fatal: destination path 'transformers' already exists and is not an empty directory.\n"
          ]
        }
      ],
      "source": [
        "! git clone https://github.com/huggingface/transformers.git"
      ]
    },
    {
      "cell_type": "markdown",
      "source": [
        "#Again changing path"
      ],
      "metadata": {
        "id": "LF3ck9hpq_4e"
      }
    },
    {
      "cell_type": "code",
      "execution_count": 5,
      "metadata": {
        "colab": {
          "base_uri": "https://localhost:8080/"
        },
        "id": "eLViOtOFWTBA",
        "outputId": "ce9449e1-c4e5-4f3c-d0c4-e4ccb02166bf"
      },
      "outputs": [
        {
          "output_type": "stream",
          "name": "stdout",
          "text": [
            "/content/drive/MyDrive/lyrics/transformers/examples/tensorflow/language-modeling\n"
          ]
        }
      ],
      "source": [
        "%cd /content/drive/MyDrive/lyrics/transformers/examples/tensorflow/language-modeling"
      ]
    },
    {
      "cell_type": "code",
      "execution_count": 6,
      "metadata": {
        "colab": {
          "base_uri": "https://localhost:8080/"
        },
        "id": "Aqu84kK0WdFW",
        "outputId": "34c73c61-eef1-4b41-d531-3c7e4aa54c04"
      },
      "outputs": [
        {
          "output_type": "stream",
          "name": "stdout",
          "text": [
            "README.md  requirements.txt  run_clm.py  run_mlm.py\n"
          ]
        }
      ],
      "source": [
        "!ls"
      ]
    },
    {
      "cell_type": "code",
      "execution_count": 7,
      "metadata": {
        "colab": {
          "base_uri": "https://localhost:8080/"
        },
        "id": "vuJl7wLmWfaT",
        "outputId": "1d8af25c-9b39-4c8a-cd14-c875d646ec9d"
      },
      "outputs": [
        {
          "output_type": "stream",
          "name": "stdout",
          "text": [
            "Requirement already satisfied: pyarrow in /usr/local/lib/python3.7/dist-packages (6.0.1)\n",
            "Collecting pyarrow\n",
            "  Downloading pyarrow-8.0.0-cp37-cp37m-manylinux_2_17_x86_64.manylinux2014_x86_64.whl (29.3 MB)\n",
            "\u001b[K     |████████████████████████████████| 29.3 MB 1.2 MB/s \n",
            "\u001b[?25hRequirement already satisfied: numpy>=1.16.6 in /usr/local/lib/python3.7/dist-packages (from pyarrow) (1.21.6)\n",
            "Installing collected packages: pyarrow\n",
            "  Attempting uninstall: pyarrow\n",
            "    Found existing installation: pyarrow 6.0.1\n",
            "    Uninstalling pyarrow-6.0.1:\n",
            "      Successfully uninstalled pyarrow-6.0.1\n",
            "Successfully installed pyarrow-8.0.0\n"
          ]
        }
      ],
      "source": [
        "!pip install pyarrow --upgrade"
      ]
    },
    {
      "cell_type": "markdown",
      "source": [
        "#Installing all the requirements required to run cloned repository"
      ],
      "metadata": {
        "id": "DDkg_0iqrr4W"
      }
    },
    {
      "cell_type": "code",
      "execution_count": 8,
      "metadata": {
        "colab": {
          "base_uri": "https://localhost:8080/"
        },
        "id": "2TtMrgzKWxFK",
        "outputId": "3d740e69-c778-45ba-e36c-978820fbc66f"
      },
      "outputs": [
        {
          "output_type": "stream",
          "name": "stdout",
          "text": [
            "Collecting datasets>=1.8.0\n",
            "  Downloading datasets-2.1.0-py3-none-any.whl (325 kB)\n",
            "\u001b[K     |████████████████████████████████| 325 kB 35.8 MB/s \n",
            "\u001b[?25hCollecting sentencepiece!=0.1.92\n",
            "  Downloading sentencepiece-0.1.96-cp37-cp37m-manylinux_2_17_x86_64.manylinux2014_x86_64.whl (1.2 MB)\n",
            "\u001b[K     |████████████████████████████████| 1.2 MB 43.5 MB/s \n",
            "\u001b[?25hRequirement already satisfied: multiprocess in /usr/local/lib/python3.7/dist-packages (from datasets>=1.8.0->-r requirements.txt (line 1)) (0.70.12.2)\n",
            "Requirement already satisfied: pyarrow>=5.0.0 in /usr/local/lib/python3.7/dist-packages (from datasets>=1.8.0->-r requirements.txt (line 1)) (8.0.0)\n",
            "Requirement already satisfied: dill in /usr/local/lib/python3.7/dist-packages (from datasets>=1.8.0->-r requirements.txt (line 1)) (0.3.4)\n",
            "Requirement already satisfied: packaging in /usr/local/lib/python3.7/dist-packages (from datasets>=1.8.0->-r requirements.txt (line 1)) (21.3)\n",
            "Collecting responses<0.19\n",
            "  Downloading responses-0.18.0-py3-none-any.whl (38 kB)\n",
            "Requirement already satisfied: requests>=2.19.0 in /usr/local/lib/python3.7/dist-packages (from datasets>=1.8.0->-r requirements.txt (line 1)) (2.23.0)\n",
            "Requirement already satisfied: pandas in /usr/local/lib/python3.7/dist-packages (from datasets>=1.8.0->-r requirements.txt (line 1)) (1.3.5)\n",
            "Requirement already satisfied: numpy>=1.17 in /usr/local/lib/python3.7/dist-packages (from datasets>=1.8.0->-r requirements.txt (line 1)) (1.21.6)\n",
            "Collecting fsspec[http]>=2021.05.0\n",
            "  Downloading fsspec-2022.3.0-py3-none-any.whl (136 kB)\n",
            "\u001b[K     |████████████████████████████████| 136 kB 71.0 MB/s \n",
            "\u001b[?25hCollecting aiohttp\n",
            "  Downloading aiohttp-3.8.1-cp37-cp37m-manylinux_2_5_x86_64.manylinux1_x86_64.manylinux_2_12_x86_64.manylinux2010_x86_64.whl (1.1 MB)\n",
            "\u001b[K     |████████████████████████████████| 1.1 MB 61.0 MB/s \n",
            "\u001b[?25hCollecting huggingface-hub<1.0.0,>=0.1.0\n",
            "  Downloading huggingface_hub-0.5.1-py3-none-any.whl (77 kB)\n",
            "\u001b[K     |████████████████████████████████| 77 kB 9.7 MB/s \n",
            "\u001b[?25hRequirement already satisfied: tqdm>=4.62.1 in /usr/local/lib/python3.7/dist-packages (from datasets>=1.8.0->-r requirements.txt (line 1)) (4.64.0)\n",
            "Collecting xxhash\n",
            "  Downloading xxhash-3.0.0-cp37-cp37m-manylinux_2_17_x86_64.manylinux2014_x86_64.whl (212 kB)\n",
            "\u001b[K     |████████████████████████████████| 212 kB 54.5 MB/s \n",
            "\u001b[?25hRequirement already satisfied: importlib-metadata in /usr/local/lib/python3.7/dist-packages (from datasets>=1.8.0->-r requirements.txt (line 1)) (4.11.3)\n",
            "Requirement already satisfied: filelock in /usr/local/lib/python3.7/dist-packages (from huggingface-hub<1.0.0,>=0.1.0->datasets>=1.8.0->-r requirements.txt (line 1)) (3.6.0)\n",
            "Requirement already satisfied: pyyaml in /usr/local/lib/python3.7/dist-packages (from huggingface-hub<1.0.0,>=0.1.0->datasets>=1.8.0->-r requirements.txt (line 1)) (3.13)\n",
            "Requirement already satisfied: typing-extensions>=3.7.4.3 in /usr/local/lib/python3.7/dist-packages (from huggingface-hub<1.0.0,>=0.1.0->datasets>=1.8.0->-r requirements.txt (line 1)) (4.2.0)\n",
            "Requirement already satisfied: pyparsing!=3.0.5,>=2.0.2 in /usr/local/lib/python3.7/dist-packages (from packaging->datasets>=1.8.0->-r requirements.txt (line 1)) (3.0.8)\n",
            "Requirement already satisfied: certifi>=2017.4.17 in /usr/local/lib/python3.7/dist-packages (from requests>=2.19.0->datasets>=1.8.0->-r requirements.txt (line 1)) (2021.10.8)\n",
            "Requirement already satisfied: idna<3,>=2.5 in /usr/local/lib/python3.7/dist-packages (from requests>=2.19.0->datasets>=1.8.0->-r requirements.txt (line 1)) (2.10)\n",
            "Requirement already satisfied: urllib3!=1.25.0,!=1.25.1,<1.26,>=1.21.1 in /usr/local/lib/python3.7/dist-packages (from requests>=2.19.0->datasets>=1.8.0->-r requirements.txt (line 1)) (1.24.3)\n",
            "Requirement already satisfied: chardet<4,>=3.0.2 in /usr/local/lib/python3.7/dist-packages (from requests>=2.19.0->datasets>=1.8.0->-r requirements.txt (line 1)) (3.0.4)\n",
            "Collecting urllib3!=1.25.0,!=1.25.1,<1.26,>=1.21.1\n",
            "  Downloading urllib3-1.25.11-py2.py3-none-any.whl (127 kB)\n",
            "\u001b[K     |████████████████████████████████| 127 kB 6.6 MB/s \n",
            "\u001b[?25hRequirement already satisfied: charset-normalizer<3.0,>=2.0 in /usr/local/lib/python3.7/dist-packages (from aiohttp->datasets>=1.8.0->-r requirements.txt (line 1)) (2.0.12)\n",
            "Requirement already satisfied: attrs>=17.3.0 in /usr/local/lib/python3.7/dist-packages (from aiohttp->datasets>=1.8.0->-r requirements.txt (line 1)) (21.4.0)\n",
            "Collecting async-timeout<5.0,>=4.0.0a3\n",
            "  Downloading async_timeout-4.0.2-py3-none-any.whl (5.8 kB)\n",
            "Collecting yarl<2.0,>=1.0\n",
            "  Downloading yarl-1.7.2-cp37-cp37m-manylinux_2_5_x86_64.manylinux1_x86_64.manylinux_2_12_x86_64.manylinux2010_x86_64.whl (271 kB)\n",
            "\u001b[K     |████████████████████████████████| 271 kB 69.3 MB/s \n",
            "\u001b[?25hCollecting multidict<7.0,>=4.5\n",
            "  Downloading multidict-6.0.2-cp37-cp37m-manylinux_2_17_x86_64.manylinux2014_x86_64.whl (94 kB)\n",
            "\u001b[K     |████████████████████████████████| 94 kB 4.8 MB/s \n",
            "\u001b[?25hCollecting asynctest==0.13.0\n",
            "  Downloading asynctest-0.13.0-py3-none-any.whl (26 kB)\n",
            "Collecting frozenlist>=1.1.1\n",
            "  Downloading frozenlist-1.3.0-cp37-cp37m-manylinux_2_5_x86_64.manylinux1_x86_64.manylinux_2_17_x86_64.manylinux2014_x86_64.whl (144 kB)\n",
            "\u001b[K     |████████████████████████████████| 144 kB 31.6 MB/s \n",
            "\u001b[?25hCollecting aiosignal>=1.1.2\n",
            "  Downloading aiosignal-1.2.0-py3-none-any.whl (8.2 kB)\n",
            "Requirement already satisfied: zipp>=0.5 in /usr/local/lib/python3.7/dist-packages (from importlib-metadata->datasets>=1.8.0->-r requirements.txt (line 1)) (3.8.0)\n",
            "Requirement already satisfied: python-dateutil>=2.7.3 in /usr/local/lib/python3.7/dist-packages (from pandas->datasets>=1.8.0->-r requirements.txt (line 1)) (2.8.2)\n",
            "Requirement already satisfied: pytz>=2017.3 in /usr/local/lib/python3.7/dist-packages (from pandas->datasets>=1.8.0->-r requirements.txt (line 1)) (2022.1)\n",
            "Requirement already satisfied: six>=1.5 in /usr/local/lib/python3.7/dist-packages (from python-dateutil>=2.7.3->pandas->datasets>=1.8.0->-r requirements.txt (line 1)) (1.15.0)\n",
            "Installing collected packages: multidict, frozenlist, yarl, urllib3, asynctest, async-timeout, aiosignal, fsspec, aiohttp, xxhash, responses, huggingface-hub, sentencepiece, datasets\n",
            "  Attempting uninstall: urllib3\n",
            "    Found existing installation: urllib3 1.24.3\n",
            "    Uninstalling urllib3-1.24.3:\n",
            "      Successfully uninstalled urllib3-1.24.3\n",
            "\u001b[31mERROR: pip's dependency resolver does not currently take into account all the packages that are installed. This behaviour is the source of the following dependency conflicts.\n",
            "datascience 0.10.6 requires folium==0.2.1, but you have folium 0.8.3 which is incompatible.\u001b[0m\n",
            "Successfully installed aiohttp-3.8.1 aiosignal-1.2.0 async-timeout-4.0.2 asynctest-0.13.0 datasets-2.1.0 frozenlist-1.3.0 fsspec-2022.3.0 huggingface-hub-0.5.1 multidict-6.0.2 responses-0.18.0 sentencepiece-0.1.96 urllib3-1.25.11 xxhash-3.0.0 yarl-1.7.2\n"
          ]
        }
      ],
      "source": [
        "!pip install -r requirements.txt"
      ]
    },
    {
      "cell_type": "markdown",
      "source": [
        "#Appending start and end tags after splitting into test and validation set"
      ],
      "metadata": {
        "id": "jPzjsP_Lr8yw"
      }
    },
    {
      "cell_type": "code",
      "execution_count": 9,
      "metadata": {
        "colab": {
          "base_uri": "https://localhost:8080/"
        },
        "id": "ZZEzq36pWx7E",
        "outputId": "45d4d41f-ce31-4c6a-8b80-6f6d91286f34"
      },
      "outputs": [
        {
          "output_type": "stream",
          "name": "stdout",
          "text": [
            "training size:5572\n",
            "Evaluation size: 620\n"
          ]
        }
      ],
      "source": [
        "from sklearn.model_selection import train_test_split\n",
        "path = '/content/drive/MyDrive/lyrics/train.txt'\n",
        "\n",
        "with open(path, 'r') as data:\n",
        "  dataset = [\"\\t\" + x.strip() for x in data.readlines()]\n",
        "train, eval = train_test_split(dataset, train_size=0.9, random_state=2020)#seperating out validation data\n",
        "print(\"training size:\" + str(len(train)))\n",
        "print(\"Evaluation size: \" + str(len(eval)))\n",
        "\n",
        "#append the <|title|> token to the input then rejoin with <|endoftext|> and write back out to their respective file.\n",
        "\n",
        "with open('/content/train_tmp.txt', 'w') as file_handle:\n",
        "  file_handle.write(\"\\n\".join(train))\n",
        "\n",
        "with open('/content/eval_tmp.txt', 'w') as file_handle:\n",
        "  file_handle.write(\"\\n\".join(eval))"
      ]
    },
    {
      "cell_type": "code",
      "execution_count": 10,
      "metadata": {
        "colab": {
          "base_uri": "https://localhost:8080/"
        },
        "id": "7CUKCbzaXXc1",
        "outputId": "c814e875-0d3f-48ca-a68d-0da099eb34cd"
      },
      "outputs": [
        {
          "output_type": "stream",
          "name": "stdout",
          "text": [
            "Collecting git+https://github.com/huggingface/transformers/\n",
            "  Cloning https://github.com/huggingface/transformers/ to /tmp/pip-req-build-3mbbr2o_\n",
            "  Running command git clone -q https://github.com/huggingface/transformers/ /tmp/pip-req-build-3mbbr2o_\n",
            "  Installing build dependencies ... \u001b[?25l\u001b[?25hdone\n",
            "  Getting requirements to build wheel ... \u001b[?25l\u001b[?25hdone\n",
            "    Preparing wheel metadata ... \u001b[?25l\u001b[?25hdone\n",
            "Requirement already satisfied: filelock in /usr/local/lib/python3.7/dist-packages (from transformers==4.19.0.dev0) (3.6.0)\n",
            "Requirement already satisfied: requests in /usr/local/lib/python3.7/dist-packages (from transformers==4.19.0.dev0) (2.23.0)\n",
            "Requirement already satisfied: importlib-metadata in /usr/local/lib/python3.7/dist-packages (from transformers==4.19.0.dev0) (4.11.3)\n",
            "Collecting tokenizers!=0.11.3,<0.13,>=0.11.1\n",
            "  Downloading tokenizers-0.12.1-cp37-cp37m-manylinux_2_12_x86_64.manylinux2010_x86_64.whl (6.6 MB)\n",
            "\u001b[K     |████████████████████████████████| 6.6 MB 19.4 MB/s \n",
            "\u001b[?25hRequirement already satisfied: numpy>=1.17 in /usr/local/lib/python3.7/dist-packages (from transformers==4.19.0.dev0) (1.21.6)\n",
            "Requirement already satisfied: packaging>=20.0 in /usr/local/lib/python3.7/dist-packages (from transformers==4.19.0.dev0) (21.3)\n",
            "Requirement already satisfied: regex!=2019.12.17 in /usr/local/lib/python3.7/dist-packages (from transformers==4.19.0.dev0) (2019.12.20)\n",
            "Requirement already satisfied: tqdm>=4.27 in /usr/local/lib/python3.7/dist-packages (from transformers==4.19.0.dev0) (4.64.0)\n",
            "Collecting pyyaml>=5.1\n",
            "  Downloading PyYAML-6.0-cp37-cp37m-manylinux_2_5_x86_64.manylinux1_x86_64.manylinux_2_12_x86_64.manylinux2010_x86_64.whl (596 kB)\n",
            "\u001b[K     |████████████████████████████████| 596 kB 52.4 MB/s \n",
            "\u001b[?25hRequirement already satisfied: huggingface-hub<1.0,>=0.1.0 in /usr/local/lib/python3.7/dist-packages (from transformers==4.19.0.dev0) (0.5.1)\n",
            "Requirement already satisfied: typing-extensions>=3.7.4.3 in /usr/local/lib/python3.7/dist-packages (from huggingface-hub<1.0,>=0.1.0->transformers==4.19.0.dev0) (4.2.0)\n",
            "Requirement already satisfied: pyparsing!=3.0.5,>=2.0.2 in /usr/local/lib/python3.7/dist-packages (from packaging>=20.0->transformers==4.19.0.dev0) (3.0.8)\n",
            "Requirement already satisfied: zipp>=0.5 in /usr/local/lib/python3.7/dist-packages (from importlib-metadata->transformers==4.19.0.dev0) (3.8.0)\n",
            "Requirement already satisfied: certifi>=2017.4.17 in /usr/local/lib/python3.7/dist-packages (from requests->transformers==4.19.0.dev0) (2021.10.8)\n",
            "Requirement already satisfied: urllib3!=1.25.0,!=1.25.1,<1.26,>=1.21.1 in /usr/local/lib/python3.7/dist-packages (from requests->transformers==4.19.0.dev0) (1.25.11)\n",
            "Requirement already satisfied: idna<3,>=2.5 in /usr/local/lib/python3.7/dist-packages (from requests->transformers==4.19.0.dev0) (2.10)\n",
            "Requirement already satisfied: chardet<4,>=3.0.2 in /usr/local/lib/python3.7/dist-packages (from requests->transformers==4.19.0.dev0) (3.0.4)\n",
            "Building wheels for collected packages: transformers\n",
            "  Building wheel for transformers (PEP 517) ... \u001b[?25l\u001b[?25hdone\n",
            "  Created wheel for transformers: filename=transformers-4.19.0.dev0-py3-none-any.whl size=4103705 sha256=4a0096123bd968679accbe40cc2cabfa4b5b4e7335e2f00428444fabc5662f43\n",
            "  Stored in directory: /tmp/pip-ephem-wheel-cache-k4c47ocb/wheels/fb/1b/91/0fcf504c386d427d65bbaf663eadf8e18cbf9795394ed7050d\n",
            "Successfully built transformers\n",
            "Installing collected packages: pyyaml, tokenizers, transformers\n",
            "  Attempting uninstall: pyyaml\n",
            "    Found existing installation: PyYAML 3.13\n",
            "    Uninstalling PyYAML-3.13:\n",
            "      Successfully uninstalled PyYAML-3.13\n",
            "Successfully installed pyyaml-6.0 tokenizers-0.12.1 transformers-4.19.0.dev0\n"
          ]
        }
      ],
      "source": [
        "! pip install git+https://github.com/huggingface/transformers/"
      ]
    },
    {
      "cell_type": "markdown",
      "source": [
        "#For fine tuning GPT-2 we will be using Huggingface and will use the provided script run_clm.py"
      ],
      "metadata": {
        "id": "p-xymf30txsN"
      }
    },
    {
      "cell_type": "code",
      "execution_count": 11,
      "metadata": {
        "colab": {
          "base_uri": "https://localhost:8080/"
        },
        "id": "wxb7oALxXPGM",
        "outputId": "f147aaa1-fd47-4257-e3d4-90de50c7bd8f"
      },
      "outputs": [
        {
          "output_type": "stream",
          "name": "stdout",
          "text": [
            "Using custom data configuration default-490665f8e3940f23\n",
            "Downloading and preparing dataset text/default to /root/.cache/huggingface/datasets/text/default-490665f8e3940f23/0.0.0/4b86d314f7236db91f0a0f5cda32d4375445e64c5eda2692655dd99c2dac68e8...\n",
            "\rDownloading data files:   0% 0/2 [00:00<?, ?it/s]\rDownloading data files: 100% 2/2 [00:00<00:00, 8012.04it/s]\n",
            "\rExtracting data files:   0% 0/2 [00:00<?, ?it/s]\rExtracting data files: 100% 2/2 [00:00<00:00, 917.29it/s]\n",
            "Dataset text downloaded and prepared to /root/.cache/huggingface/datasets/text/default-490665f8e3940f23/0.0.0/4b86d314f7236db91f0a0f5cda32d4375445e64c5eda2692655dd99c2dac68e8. Subsequent calls will reuse this data.\n",
            "\r  0% 0/2 [00:00<?, ?it/s]\r100% 2/2 [00:00<00:00, 782.23it/s]\n",
            "https://huggingface.co/distilgpt2/resolve/main/config.json not found in cache or force_download set to True, downloading to /root/.cache/huggingface/transformers/tmpdfs5ic7j\n",
            "Downloading: 100% 762/762 [00:00<00:00, 136kB/s]\n",
            "storing https://huggingface.co/distilgpt2/resolve/main/config.json in cache at /root/.cache/huggingface/transformers/f985248d2791fcff97732e4ee263617adec1edb5429a2b8421734c6d14e39bee.422318838d1ec4e061efb4ea29671cb2a044e244dc69229682bebd7cacc81631\n",
            "creating metadata file for /root/.cache/huggingface/transformers/f985248d2791fcff97732e4ee263617adec1edb5429a2b8421734c6d14e39bee.422318838d1ec4e061efb4ea29671cb2a044e244dc69229682bebd7cacc81631\n",
            "loading configuration file https://huggingface.co/distilgpt2/resolve/main/config.json from cache at /root/.cache/huggingface/transformers/f985248d2791fcff97732e4ee263617adec1edb5429a2b8421734c6d14e39bee.422318838d1ec4e061efb4ea29671cb2a044e244dc69229682bebd7cacc81631\n",
            "Model config GPT2Config {\n",
            "  \"_name_or_path\": \"distilgpt2\",\n",
            "  \"_num_labels\": 1,\n",
            "  \"activation_function\": \"gelu_new\",\n",
            "  \"architectures\": [\n",
            "    \"GPT2LMHeadModel\"\n",
            "  ],\n",
            "  \"attn_pdrop\": 0.1,\n",
            "  \"bos_token_id\": 50256,\n",
            "  \"embd_pdrop\": 0.1,\n",
            "  \"eos_token_id\": 50256,\n",
            "  \"id2label\": {\n",
            "    \"0\": \"LABEL_0\"\n",
            "  },\n",
            "  \"initializer_range\": 0.02,\n",
            "  \"label2id\": {\n",
            "    \"LABEL_0\": 0\n",
            "  },\n",
            "  \"layer_norm_epsilon\": 1e-05,\n",
            "  \"model_type\": \"gpt2\",\n",
            "  \"n_ctx\": 1024,\n",
            "  \"n_embd\": 768,\n",
            "  \"n_head\": 12,\n",
            "  \"n_inner\": null,\n",
            "  \"n_layer\": 6,\n",
            "  \"n_positions\": 1024,\n",
            "  \"reorder_and_upcast_attn\": false,\n",
            "  \"resid_pdrop\": 0.1,\n",
            "  \"scale_attn_by_inverse_layer_idx\": false,\n",
            "  \"scale_attn_weights\": true,\n",
            "  \"summary_activation\": null,\n",
            "  \"summary_first_dropout\": 0.1,\n",
            "  \"summary_proj_to_labels\": true,\n",
            "  \"summary_type\": \"cls_index\",\n",
            "  \"summary_use_proj\": true,\n",
            "  \"task_specific_params\": {\n",
            "    \"text-generation\": {\n",
            "      \"do_sample\": true,\n",
            "      \"max_length\": 50\n",
            "    }\n",
            "  },\n",
            "  \"transformers_version\": \"4.19.0.dev0\",\n",
            "  \"use_cache\": true,\n",
            "  \"vocab_size\": 50257\n",
            "}\n",
            "\n",
            "Could not locate the tokenizer configuration file, will try to use the model config instead.\n",
            "loading configuration file https://huggingface.co/distilgpt2/resolve/main/config.json from cache at /root/.cache/huggingface/transformers/f985248d2791fcff97732e4ee263617adec1edb5429a2b8421734c6d14e39bee.422318838d1ec4e061efb4ea29671cb2a044e244dc69229682bebd7cacc81631\n",
            "Model config GPT2Config {\n",
            "  \"_name_or_path\": \"distilgpt2\",\n",
            "  \"_num_labels\": 1,\n",
            "  \"activation_function\": \"gelu_new\",\n",
            "  \"architectures\": [\n",
            "    \"GPT2LMHeadModel\"\n",
            "  ],\n",
            "  \"attn_pdrop\": 0.1,\n",
            "  \"bos_token_id\": 50256,\n",
            "  \"embd_pdrop\": 0.1,\n",
            "  \"eos_token_id\": 50256,\n",
            "  \"id2label\": {\n",
            "    \"0\": \"LABEL_0\"\n",
            "  },\n",
            "  \"initializer_range\": 0.02,\n",
            "  \"label2id\": {\n",
            "    \"LABEL_0\": 0\n",
            "  },\n",
            "  \"layer_norm_epsilon\": 1e-05,\n",
            "  \"model_type\": \"gpt2\",\n",
            "  \"n_ctx\": 1024,\n",
            "  \"n_embd\": 768,\n",
            "  \"n_head\": 12,\n",
            "  \"n_inner\": null,\n",
            "  \"n_layer\": 6,\n",
            "  \"n_positions\": 1024,\n",
            "  \"reorder_and_upcast_attn\": false,\n",
            "  \"resid_pdrop\": 0.1,\n",
            "  \"scale_attn_by_inverse_layer_idx\": false,\n",
            "  \"scale_attn_weights\": true,\n",
            "  \"summary_activation\": null,\n",
            "  \"summary_first_dropout\": 0.1,\n",
            "  \"summary_proj_to_labels\": true,\n",
            "  \"summary_type\": \"cls_index\",\n",
            "  \"summary_use_proj\": true,\n",
            "  \"task_specific_params\": {\n",
            "    \"text-generation\": {\n",
            "      \"do_sample\": true,\n",
            "      \"max_length\": 50\n",
            "    }\n",
            "  },\n",
            "  \"transformers_version\": \"4.19.0.dev0\",\n",
            "  \"use_cache\": true,\n",
            "  \"vocab_size\": 50257\n",
            "}\n",
            "\n",
            "https://huggingface.co/distilgpt2/resolve/main/vocab.json not found in cache or force_download set to True, downloading to /root/.cache/huggingface/transformers/tmpprb5_pv1\n",
            "Downloading: 100% 0.99M/0.99M [00:00<00:00, 27.3MB/s]\n",
            "storing https://huggingface.co/distilgpt2/resolve/main/vocab.json in cache at /root/.cache/huggingface/transformers/55051ac97dcc32f0a736d21a32a4d42b0d9b90f117ca7c38e65038b04bd5c3f5.c7ed1f96aac49e745788faa77ba0a26a392643a50bb388b9c04ff469e555241f\n",
            "creating metadata file for /root/.cache/huggingface/transformers/55051ac97dcc32f0a736d21a32a4d42b0d9b90f117ca7c38e65038b04bd5c3f5.c7ed1f96aac49e745788faa77ba0a26a392643a50bb388b9c04ff469e555241f\n",
            "https://huggingface.co/distilgpt2/resolve/main/merges.txt not found in cache or force_download set to True, downloading to /root/.cache/huggingface/transformers/tmp2rlyv86w\n",
            "Downloading: 100% 446k/446k [00:00<00:00, 14.1MB/s]\n",
            "storing https://huggingface.co/distilgpt2/resolve/main/merges.txt in cache at /root/.cache/huggingface/transformers/9dfb299b74cdf7601ba7cd3a8073dbdac351caec0ed7ab5849b098b3c8ae3d57.5d12962c5ee615a4c803841266e9c3be9a691a924f72d395d3a6c6c81157788b\n",
            "creating metadata file for /root/.cache/huggingface/transformers/9dfb299b74cdf7601ba7cd3a8073dbdac351caec0ed7ab5849b098b3c8ae3d57.5d12962c5ee615a4c803841266e9c3be9a691a924f72d395d3a6c6c81157788b\n",
            "https://huggingface.co/distilgpt2/resolve/main/tokenizer.json not found in cache or force_download set to True, downloading to /root/.cache/huggingface/transformers/tmpg7ejglqj\n",
            "Downloading: 100% 1.29M/1.29M [00:00<00:00, 18.0MB/s]\n",
            "storing https://huggingface.co/distilgpt2/resolve/main/tokenizer.json in cache at /root/.cache/huggingface/transformers/accb287b5a5396b2597382916b6cc939fdab1366e89475a92338d3971b3d02b7.cf2d0ecb83b6df91b3dbb53f1d1e4c311578bfd3aa0e04934215a49bf9898df0\n",
            "creating metadata file for /root/.cache/huggingface/transformers/accb287b5a5396b2597382916b6cc939fdab1366e89475a92338d3971b3d02b7.cf2d0ecb83b6df91b3dbb53f1d1e4c311578bfd3aa0e04934215a49bf9898df0\n",
            "loading file https://huggingface.co/distilgpt2/resolve/main/vocab.json from cache at /root/.cache/huggingface/transformers/55051ac97dcc32f0a736d21a32a4d42b0d9b90f117ca7c38e65038b04bd5c3f5.c7ed1f96aac49e745788faa77ba0a26a392643a50bb388b9c04ff469e555241f\n",
            "loading file https://huggingface.co/distilgpt2/resolve/main/merges.txt from cache at /root/.cache/huggingface/transformers/9dfb299b74cdf7601ba7cd3a8073dbdac351caec0ed7ab5849b098b3c8ae3d57.5d12962c5ee615a4c803841266e9c3be9a691a924f72d395d3a6c6c81157788b\n",
            "loading file https://huggingface.co/distilgpt2/resolve/main/tokenizer.json from cache at /root/.cache/huggingface/transformers/accb287b5a5396b2597382916b6cc939fdab1366e89475a92338d3971b3d02b7.cf2d0ecb83b6df91b3dbb53f1d1e4c311578bfd3aa0e04934215a49bf9898df0\n",
            "loading file https://huggingface.co/distilgpt2/resolve/main/added_tokens.json from cache at None\n",
            "loading file https://huggingface.co/distilgpt2/resolve/main/special_tokens_map.json from cache at None\n",
            "loading file https://huggingface.co/distilgpt2/resolve/main/tokenizer_config.json from cache at None\n",
            "loading configuration file https://huggingface.co/distilgpt2/resolve/main/config.json from cache at /root/.cache/huggingface/transformers/f985248d2791fcff97732e4ee263617adec1edb5429a2b8421734c6d14e39bee.422318838d1ec4e061efb4ea29671cb2a044e244dc69229682bebd7cacc81631\n",
            "Model config GPT2Config {\n",
            "  \"_name_or_path\": \"distilgpt2\",\n",
            "  \"_num_labels\": 1,\n",
            "  \"activation_function\": \"gelu_new\",\n",
            "  \"architectures\": [\n",
            "    \"GPT2LMHeadModel\"\n",
            "  ],\n",
            "  \"attn_pdrop\": 0.1,\n",
            "  \"bos_token_id\": 50256,\n",
            "  \"embd_pdrop\": 0.1,\n",
            "  \"eos_token_id\": 50256,\n",
            "  \"id2label\": {\n",
            "    \"0\": \"LABEL_0\"\n",
            "  },\n",
            "  \"initializer_range\": 0.02,\n",
            "  \"label2id\": {\n",
            "    \"LABEL_0\": 0\n",
            "  },\n",
            "  \"layer_norm_epsilon\": 1e-05,\n",
            "  \"model_type\": \"gpt2\",\n",
            "  \"n_ctx\": 1024,\n",
            "  \"n_embd\": 768,\n",
            "  \"n_head\": 12,\n",
            "  \"n_inner\": null,\n",
            "  \"n_layer\": 6,\n",
            "  \"n_positions\": 1024,\n",
            "  \"reorder_and_upcast_attn\": false,\n",
            "  \"resid_pdrop\": 0.1,\n",
            "  \"scale_attn_by_inverse_layer_idx\": false,\n",
            "  \"scale_attn_weights\": true,\n",
            "  \"summary_activation\": null,\n",
            "  \"summary_first_dropout\": 0.1,\n",
            "  \"summary_proj_to_labels\": true,\n",
            "  \"summary_type\": \"cls_index\",\n",
            "  \"summary_use_proj\": true,\n",
            "  \"task_specific_params\": {\n",
            "    \"text-generation\": {\n",
            "      \"do_sample\": true,\n",
            "      \"max_length\": 50\n",
            "    }\n",
            "  },\n",
            "  \"transformers_version\": \"4.19.0.dev0\",\n",
            "  \"use_cache\": true,\n",
            "  \"vocab_size\": 50257\n",
            "}\n",
            "\n",
            "Running tokenizer on dataset: 100% 6/6 [00:00<00:00, 19.67ba/s]\n",
            "Running tokenizer on dataset: 100% 1/1 [00:00<00:00, 18.89ba/s]\n",
            "Grouping texts in chunks of 1024: 100% 6/6 [00:00<00:00, 40.21ba/s]\n",
            "Grouping texts in chunks of 1024: 100% 1/1 [00:00<00:00, 61.19ba/s]\n",
            "Tensorflow: setting up strategy\n",
            "WARNING:tensorflow:From /usr/local/lib/python3.7/dist-packages/keras/mixed_precision/loss_scale.py:52: DynamicLossScale.__init__ (from tensorflow.python.training.experimental.loss_scale) is deprecated and will be removed in a future version.\n",
            "Instructions for updating:\n",
            "Use tf.keras.mixed_precision.LossScaleOptimizer instead. LossScaleOptimizer now has all the functionality of DynamicLossScale\n",
            "2022-05-08 04:44:38.945584: W tensorflow/core/common_runtime/gpu/gpu_bfc_allocator.cc:39] Overriding allow_growth setting because the TF_FORCE_GPU_ALLOW_GROWTH environment variable is set. Original config value was 0.\n",
            "https://huggingface.co/distilgpt2/resolve/main/tf_model.h5 not found in cache or force_download set to True, downloading to /root/.cache/huggingface/transformers/tmpd9xnt_7y\n",
            "Downloading: 100% 313M/313M [00:06<00:00, 51.3MB/s]\n",
            "storing https://huggingface.co/distilgpt2/resolve/main/tf_model.h5 in cache at /root/.cache/huggingface/transformers/4613c1e932fb11db49f0c70ab24776389a903502456faee127bb5d620830e4a7.e432bcdd38b574b52471087cef251f596c729d94919044c0cc2874eabbc60bbb.h5\n",
            "creating metadata file for /root/.cache/huggingface/transformers/4613c1e932fb11db49f0c70ab24776389a903502456faee127bb5d620830e4a7.e432bcdd38b574b52471087cef251f596c729d94919044c0cc2874eabbc60bbb.h5\n",
            "loading weights file https://huggingface.co/distilgpt2/resolve/main/tf_model.h5 from cache at /root/.cache/huggingface/transformers/4613c1e932fb11db49f0c70ab24776389a903502456faee127bb5d620830e4a7.e432bcdd38b574b52471087cef251f596c729d94919044c0cc2874eabbc60bbb.h5\n",
            "2022-05-08 04:44:45.640075: W tensorflow/python/util/util.cc:368] Sets are not currently considered sequences, but this may change in the future, so consider avoiding using them.\n",
            "All model checkpoint layers were used when initializing TFGPT2LMHeadModel.\n",
            "\n",
            "All the layers of TFGPT2LMHeadModel were initialized from the model checkpoint at distilgpt2.\n",
            "If your task is similar to the task the model of the checkpoint was trained on, you can already use TFGPT2LMHeadModel for predictions without further training.\n",
            "No loss specified in compile() - the model's internal loss computation will be used as the loss. Don't panic - this is a common way to train TensorFlow models in Transformers! To disable this behaviour, please pass a loss argument, or explicitly pass `loss=None` if you do not want your model to compute a loss.\n",
            "WARNING:tensorflow:tf.keras.mixed_precision.experimental.LossScaleOptimizer is deprecated. Please use tf.keras.mixed_precision.LossScaleOptimizer instead. Note that the non-experimental LossScaleOptimizer does not take a DynamicLossScale but instead takes the dynamic configuration directly in the constructor. For example:\n",
            "  opt = tf.keras.mixed_precision.LossScaleOptimizer(opt)\n",
            "\n",
            "Epoch 1/20\n",
            "7/7 [==============================] - ETA: 0s - loss: 6.2785Configuration saved in /content/res_tmp.txt/config.json\n",
            "Model weights saved in /content/res_tmp.txt/tf_model.h5\n",
            "7/7 [==============================] - 20s 1s/step - loss: 6.2785\n",
            "Epoch 2/20\n",
            "7/7 [==============================] - ETA: 0s - loss: 5.2461Configuration saved in /content/res_tmp.txt/config.json\n",
            "Model weights saved in /content/res_tmp.txt/tf_model.h5\n",
            "7/7 [==============================] - 7s 1s/step - loss: 5.2461\n",
            "Epoch 3/20\n",
            "7/7 [==============================] - ETA: 0s - loss: 4.9035Configuration saved in /content/res_tmp.txt/config.json\n",
            "Model weights saved in /content/res_tmp.txt/tf_model.h5\n",
            "7/7 [==============================] - 7s 1s/step - loss: 4.9035\n",
            "Epoch 4/20\n",
            "7/7 [==============================] - ETA: 0s - loss: 4.7165Configuration saved in /content/res_tmp.txt/config.json\n",
            "Model weights saved in /content/res_tmp.txt/tf_model.h5\n",
            "7/7 [==============================] - 7s 1s/step - loss: 4.7165\n",
            "Epoch 5/20\n",
            "7/7 [==============================] - ETA: 0s - loss: 4.5513Configuration saved in /content/res_tmp.txt/config.json\n",
            "Model weights saved in /content/res_tmp.txt/tf_model.h5\n",
            "7/7 [==============================] - 7s 1s/step - loss: 4.5513\n",
            "Epoch 6/20\n",
            "7/7 [==============================] - ETA: 0s - loss: 4.4252Configuration saved in /content/res_tmp.txt/config.json\n",
            "Model weights saved in /content/res_tmp.txt/tf_model.h5\n",
            "7/7 [==============================] - 7s 1s/step - loss: 4.4252\n",
            "Epoch 7/20\n",
            "7/7 [==============================] - ETA: 0s - loss: 4.3354Configuration saved in /content/res_tmp.txt/config.json\n",
            "Model weights saved in /content/res_tmp.txt/tf_model.h5\n",
            "7/7 [==============================] - 7s 1s/step - loss: 4.3354\n",
            "Epoch 8/20\n",
            "7/7 [==============================] - ETA: 0s - loss: 4.2734Configuration saved in /content/res_tmp.txt/config.json\n",
            "Model weights saved in /content/res_tmp.txt/tf_model.h5\n",
            "7/7 [==============================] - 7s 1s/step - loss: 4.2734\n",
            "Epoch 9/20\n",
            "7/7 [==============================] - ETA: 0s - loss: 4.2232Configuration saved in /content/res_tmp.txt/config.json\n",
            "Model weights saved in /content/res_tmp.txt/tf_model.h5\n",
            "7/7 [==============================] - 7s 1s/step - loss: 4.2232\n",
            "Epoch 10/20\n",
            "7/7 [==============================] - ETA: 0s - loss: 4.1920Configuration saved in /content/res_tmp.txt/config.json\n",
            "Model weights saved in /content/res_tmp.txt/tf_model.h5\n",
            "7/7 [==============================] - 7s 1s/step - loss: 4.1920\n",
            "Epoch 11/20\n",
            "7/7 [==============================] - ETA: 0s - loss: 4.1624Configuration saved in /content/res_tmp.txt/config.json\n",
            "Model weights saved in /content/res_tmp.txt/tf_model.h5\n",
            "7/7 [==============================] - 7s 1s/step - loss: 4.1624\n",
            "Epoch 12/20\n",
            "7/7 [==============================] - ETA: 0s - loss: 4.1323Configuration saved in /content/res_tmp.txt/config.json\n",
            "Model weights saved in /content/res_tmp.txt/tf_model.h5\n",
            "7/7 [==============================] - 7s 1s/step - loss: 4.1323\n",
            "Epoch 13/20\n",
            "7/7 [==============================] - ETA: 0s - loss: 4.1200Configuration saved in /content/res_tmp.txt/config.json\n",
            "Model weights saved in /content/res_tmp.txt/tf_model.h5\n",
            "7/7 [==============================] - 8s 1s/step - loss: 4.1200\n",
            "Epoch 14/20\n",
            "7/7 [==============================] - ETA: 0s - loss: 4.0960Configuration saved in /content/res_tmp.txt/config.json\n",
            "Model weights saved in /content/res_tmp.txt/tf_model.h5\n",
            "7/7 [==============================] - 8s 1s/step - loss: 4.0960\n",
            "Epoch 15/20\n",
            "7/7 [==============================] - ETA: 0s - loss: 4.0731Configuration saved in /content/res_tmp.txt/config.json\n",
            "Model weights saved in /content/res_tmp.txt/tf_model.h5\n",
            "7/7 [==============================] - 8s 1s/step - loss: 4.0731\n",
            "Epoch 16/20\n",
            "7/7 [==============================] - ETA: 0s - loss: 4.0642Configuration saved in /content/res_tmp.txt/config.json\n",
            "Model weights saved in /content/res_tmp.txt/tf_model.h5\n",
            "7/7 [==============================] - 8s 1s/step - loss: 4.0642\n",
            "Epoch 17/20\n",
            "7/7 [==============================] - ETA: 0s - loss: 4.0547Configuration saved in /content/res_tmp.txt/config.json\n",
            "Model weights saved in /content/res_tmp.txt/tf_model.h5\n",
            "7/7 [==============================] - 7s 1s/step - loss: 4.0547\n",
            "Epoch 18/20\n",
            "7/7 [==============================] - ETA: 0s - loss: 4.0435Configuration saved in /content/res_tmp.txt/config.json\n",
            "Model weights saved in /content/res_tmp.txt/tf_model.h5\n",
            "7/7 [==============================] - 7s 1s/step - loss: 4.0435\n",
            "Epoch 19/20\n",
            "7/7 [==============================] - ETA: 0s - loss: 4.0363Configuration saved in /content/res_tmp.txt/config.json\n",
            "Model weights saved in /content/res_tmp.txt/tf_model.h5\n",
            "7/7 [==============================] - 7s 1s/step - loss: 4.0363\n",
            "Epoch 20/20\n",
            "7/7 [==============================] - ETA: 0s - loss: 4.0396Configuration saved in /content/res_tmp.txt/config.json\n",
            "Model weights saved in /content/res_tmp.txt/tf_model.h5\n",
            "7/7 [==============================] - 8s 1s/step - loss: 4.0396\n",
            "Traceback (most recent call last):\n",
            "  File \"run_clm.py\", line 528, in <module>\n",
            "    main()\n",
            "  File \"run_clm.py\", line 510, in main\n",
            "    validation_perplexity = math.exp(history.history[\"val_loss\"][-1])\n",
            "KeyError: 'val_loss'\n"
          ]
        }
      ],
      "source": [
        "!python run_clm.py \\\n",
        "--model_type gpt2-small \\\n",
        "--model_name_or_path distilgpt2 \\\n",
        "--train_file /content/train_tmp.txt \\\n",
        "--do_train \\\n",
        "--validation_file /content/eval_tmp.txt \\\n",
        "--do_eval \\\n",
        "--per_gpu_train_batch_size 128 \\\n",
        "--save_steps -1 \\\n",
        "--num_train_epochs 20 \\\n",
        "--fp16 \\\n",
        "--output_dir=/content/res_tmp.txt"
      ]
    },
    {
      "cell_type": "markdown",
      "metadata": {
        "id": "ufWJdlN9dOlC"
      },
      "source": [
        ""
      ]
    },
    {
      "cell_type": "code",
      "execution_count": 12,
      "metadata": {
        "colab": {
          "base_uri": "https://localhost:8080/",
          "height": 202,
          "referenced_widgets": [
            "3cc9c5bd3a4440a8b7ac0423acc906c0",
            "f214eaa6e93a463fb74f17a6c75454b4",
            "4ac84fe656bf41329165e282a93915ad",
            "35883f1d71cb4d2b9c0b99ae70c80649",
            "8ef6ffff6f234df68b29bbf768d3edd6",
            "3575292a82bf43dabfcc5c250be716dd",
            "8f4add41b85b4ed3ad36a42038ad6898",
            "abbb193fda7e4a5ba2f24077ef222023",
            "7b5e61197dd6465ca7ea27f9be0c0233",
            "17e740b32ec34448934d6c30ca77bb7a",
            "aea7a6b8d5054fc4858e29a20f07c1b9",
            "3322fde072cc4e06b68c9804c21f3fc2",
            "6c8a9d34a9864a02b134fc94e9a44265",
            "251eaa5693bd4cc9876426a5ff168ac8",
            "04c439f4da8e422e94cc72a5a8cc9e9f",
            "8b72043faf274c90a044163e95aa5d91",
            "bac23bb8396b4176ac7d7fb874007481",
            "a5581fff6b894f4a9497582bf79afc31",
            "0ed197c330174c4aa5ba6d6fb72ffa68",
            "db0b830933564780941972ebb6e557f8",
            "aabf38d431c840bea7c7c34e9a57194f",
            "bd287c7fe4e54e1e9ead515ac38c04fc",
            "12507e36c3c540d288bf37a055a88aa8",
            "3a48a01ad0b34fb8809e120b4826db32",
            "65b726d373d54c7288bc2e9d6c2884bc",
            "32c225855a5b4d12ab908d4a9496438a",
            "45e6c38d541a49f68cb761361b08ce99",
            "aa49c3dc8d5940ce97fc430292f0221f",
            "70fc8d5b71b7459fa78954cda7a193db",
            "c95b26dc8a3d494fa135f2608478bb62",
            "1aa372f836cb4ec8aa66bb834a894745",
            "0916f91baa0b41ac8fdcd7d0b52dba47",
            "16597385c2ef4dc8bb78a0dfc4dbabf4"
          ]
        },
        "id": "4Z6MHqKGdPYr",
        "outputId": "7fe1db59-417d-48e3-ab70-ee94d508a3bc"
      },
      "outputs": [
        {
          "output_type": "display_data",
          "data": {
            "text/plain": [
              "Downloading:   0%|          | 0.00/0.99M [00:00<?, ?B/s]"
            ],
            "application/vnd.jupyter.widget-view+json": {
              "version_major": 2,
              "version_minor": 0,
              "model_id": "3cc9c5bd3a4440a8b7ac0423acc906c0"
            }
          },
          "metadata": {}
        },
        {
          "output_type": "display_data",
          "data": {
            "text/plain": [
              "Downloading:   0%|          | 0.00/446k [00:00<?, ?B/s]"
            ],
            "application/vnd.jupyter.widget-view+json": {
              "version_major": 2,
              "version_minor": 0,
              "model_id": "3322fde072cc4e06b68c9804c21f3fc2"
            }
          },
          "metadata": {}
        },
        {
          "output_type": "display_data",
          "data": {
            "text/plain": [
              "Downloading:   0%|          | 0.00/665 [00:00<?, ?B/s]"
            ],
            "application/vnd.jupyter.widget-view+json": {
              "version_major": 2,
              "version_minor": 0,
              "model_id": "12507e36c3c540d288bf37a055a88aa8"
            }
          },
          "metadata": {}
        },
        {
          "output_type": "stream",
          "name": "stderr",
          "text": [
            "All model checkpoint layers were used when initializing TFGPT2LMHeadModel.\n",
            "\n",
            "All the layers of TFGPT2LMHeadModel were initialized from the model checkpoint at /content/res_tmp.txt/tf_model.h5.\n",
            "If your task is similar to the task the model of the checkpoint was trained on, you can already use TFGPT2LMHeadModel for predictions without further training.\n"
          ]
        }
      ],
      "source": [
        "# setup imports to use the model\n",
        "from transformers import TFGPT2LMHeadModel\n",
        "from transformers import GPT2Tokenizer\n",
        "\n",
        "#using the pre-trained GPT-2 tokenizer for creating our input sequence to the model.\n",
        "tokenizer = GPT2Tokenizer.from_pretrained(\"gpt2\")\n",
        "model = TFGPT2LMHeadModel.from_pretrained(config='/content/res_tmp.txt/config.json',pretrained_model_name_or_path='/content/res_tmp.txt/tf_model.h5',)\n",
        "\n",
        "input_ids = tokenizer.encode(\"I love Deep Learning\", return_tensors='tf')"
      ]
    },
    {
      "cell_type": "markdown",
      "source": [
        "#Generating lyrics"
      ],
      "metadata": {
        "id": "a_QH-iRbuR7V"
      }
    },
    {
      "cell_type": "code",
      "execution_count": 13,
      "metadata": {
        "id": "mCHUeNy8gO5u",
        "colab": {
          "base_uri": "https://localhost:8080/"
        },
        "outputId": "45218fb5-d417-48a2-9183-7de47a228ded"
      },
      "outputs": [
        {
          "output_type": "stream",
          "name": "stderr",
          "text": [
            "Setting `pad_token_id` to 50256 (first `eos_token_id`) to generate sequence\n"
          ]
        },
        {
          "output_type": "stream",
          "name": "stdout",
          "text": [
            "0: I love Deep Learning\n",
            "Deep learning at its finest is a good thing to do when we live in fear of alienating our best friend or being hurtful by the wrong people\n",
            "\n",
            "1: I love Deep Learning and I believe it is the hardest thing to do in my life.\n",
            "Advertisements\n",
            "\n",
            "2: I love Deep Learning\n",
            "Deep learning in this game is a lot of fun to play with, and I think it‪s great. You know when you start thinking about your family history then what if they were just me? How can the average adult be so different than their cousins? And who that girl was by now?! That mean Im pretty messed up on my face even though she had these black hair! Uhohhhh What do we want outta some dude at our wedding party no more huh No less serious shit oh God yeah whats bad damn right here ooooopay thats crazy for every person wearing jeans like Michael Jordan!! Right there yall need her hot pussy instead yo Yo Gotta spend hours getting rid of all those stupid pants haha Ohhh Yeah well its hard but not only dont let them get away from each other cause nobody else cares anymore bout him please try again Ill walk off after being too drunk without paying attention To give people around us ideas sometimes Not having enough cash Isnt cool Life really short Real life long Short answer Hey hey Lets say Hi Kitten niggas have problems My body would look good But lets find myself safe Cause Its always been way easier since college high school All hail Christ Jesus Haha hah ho hah wait where am i gonna go Now come home next week Theres such fine lines Where did he leave his parents gone So why bother loving little things Badlands deep down Hell yes Damn Yes Mr Wayne mani Get married fuckin Dansu back In Beverly Hills Wayfarers style Blackout West Florida Aint It's over There should probably never happen Again Just because hes mad or anything Ye gotta tell ya before We went through class Too late Momma got extra time Come tonight morning baby Boom Bitch Look how much brighter are two girls Biggie newbie See as loud Ashen Puck Daddy Fuckers fresh open Cane Of Spieland Fresh Off Day New Year Eve Paris Saint Germain Oldsmobile Yeezy Altar MTV Rundown Pretty soon Jumping Threesome Romance Party Mayonnaise Begonias Whore Fillionaire Youngsters Lipsands Gucci Forever Sunday Night Lights Live VHS One Direction Oscar nominated Kim Kardashian September 16th National Jazz Festival MC Joe Louis Vuitton Kanye Smith DJ Jay Z Mikey Jane Phil Jackson November 22nd Columbus Crew Hammerstein December 19st Birthday Prince Beyonce January 20rd Joss Whedon Hollywood legend Drums Jack Russell June 27d October 2ND Baby Boomer John Lennon July 23RD Kobe Bryant August 3D Stockholm Syndrome Richard Simmons Halloween Fashion Week LA Faberium Christmas Music Halliday Homecoming Concert Versace Award Winners Egoist 2012 Candice Milone Mannequin 2013 Springtime Musicians Looney Tunes Social Club April Fool Clockwise Fridays Midnight Shower Handover Malibu Popstar Grammys Melodrama Pushrappies Preschool Musical Performance Minimalism Summer Moneyball Movie Parties Ollie Maevelella Album Coolest Place Motherfucker Mary Joanne Manson Family Guy Ali Prada Poetry Rock/Roll Call Roll Ballroom Bridesmaidens Swagger Barley Shelly Baldwin Brandeis\n",
            "\n",
            "3: I love Deep Learning\n",
            "Deep learning is a way of telling you what we need to know about ourselves and our future. We want answers that will help us make better decisions for the world, but also be more creative with things like smart ways so people can spend time on different topics or ideas instead! I really do think in this class where it comes down to me who gave my best tryout Avis too many niggas nothin they did right then oh well thats kinda crazy how much money all these emcees pour at her favorite restaurant every minute :) Imma tell ya girls your mommy good luck huh Ill have some hoes dont even take them out here cause shere got no job now Thats why im been there til yesterday night Is never gonna break up again okoh whats he talking bout Yallay Looked over everything Ye yo talkin shit yeah everybody hes living under glass when i get an answer yup okay let him fly its light if ye cant wait until next week All told hey lets go back home baby boy still wanna see What You Did was funny though Its true Man Yo Gotta die just because somebody else wanted something This thing came straight from hell Do one moment feel free Can't hit anybody damn high Hallelujah God bless Me Chaz Andta Poppa La Rose Oh hi ho man No disrespect Hey Cooler Doggie Cause Jay wouldnt play by myself Duhhhhhhe Dame Baby YeahhhHands off around KFC Bad ass Like Kanye West If u ever had trouble control My heart blow Out Now makin' sayit bitch Way into another picture Mama Life has always felt alive Where could anyone call themselves Fucking Christ Right Behind The Cabs Black holes without having grown accustomed To work long hours hard Ours On Days Without Money Old Fashionies Cold drinks Whips Shorty Notorious B-Lenny Bobby Jones Daydreaming Long enough Take It Seriously Jack Hill Jovi Brandi Denim Till Nuts Get Ready Pusha But Pics Donna Tell Us Lies Youngsters Yes Ya Emmett Barkley Say Weezy Def Jam Rufflebox Are They Shredding Off Stokes Stones Something Told Of Hip Hop Workaholics Really Lyrics Honestly Maybe Howie James Cook Didn‣t Know Who He Whats She Seeawful Just Goon Down There Let's Talk Damn Runaway Drivin Olaf Smalls In Cars Slowdown Loose Love Come Back Home Drive Thriftyshop Music AiníMight Have Made IdrissImNeeBitch TrynotshellYellOdinForTheWorldKanye South ShoreYeOnMyThouLaurenceHold Your Hand UpTanksEatingOneOfUsFuckWoeOrCeaseThatBabySoulToFeelsLikeRockItsRightRainedWithAye JesusDancing With Mary Jane DoeShe Begring TooYoungAndStupidInAllThingsAwnnCauseNow When Mike Lee ReubenheimerSaddenItIllve Been Sorted Around Her Body since 2009 Because Asha Got AIDSBeforeWe WentUpDownSo GoodbyeIf nothing worse than sex Could happenHowlinYoull kill yourself first BlowjobGoreFashion PrinceJames HardenHe made his name as DJ Big EppoWho said Xmas Swag City RolloverNew York Stock ExchangeOld school yearbook old girlTellMeThisGirlIs Far LeftOutManfuckerBut whos feeling Sad World Fresh Air Mr SinatraJayne Mitchell Rachel JohnsonReal power coupledaddy niggaMadonnaSpent Even More Hours Trying AgainYeah Uhmmmmmhmhaha So hot Cheers MinivanMaximeMonkeysGettin Spinal TapmanHotnessPars Humminus Maybach Versace RochelleWhatsAppName Mention About HimNoontownGirlsBack TogetherNeutral Milk HotelMexican style Monochrome VibrantroomShrugging Thugged PulloversRoundEverywhereWhite AmericaSean Overtonement ParkWalkthroughYo Pharrell WilliamsSay Anything PradaZachariyahPulloutsSmashing PumpkinsUh FuckninjaRoll SoulmateToo bad Joe HarveyOh snapnyseansUghhhh Okay BoogieBang Bangbang bang thud Bustle UgoGo Hi bye Bye goodbyeHelloHey little kid DudeHi Loubob Benji Samsa Perpetualize Welcome\n",
            "\n",
            "4: I love Deep Learning and it makes a lot of sense to me\n",
            "Big time with David Bowie is going on forever I'm just so glad for you Big Day That Christmas Eve, The New York Times Book Of Truth. Hallelujah Imma tell them what we need in this world that they dont believe but why should my friends call him at all hours every morning like Yeezy thats the same night no matter where he live Its always good when people stop trying hard Just because its one day or another Cause she ever gettin hold of ya niggas about nothin shit nobody know how else doin bout show up Donated as an angel You see What Id Do It Anyway Lets talk some more Life without feeling bad How your thoughts go wrong Get high Em Cheesecake made by Dwayne Johnson Snedo Freshness from his own body Joes Mouthesa Blow Out Like A KFC Girl Ill be too busy Man fucker Bad vibrancy makin Nas hits Kanye West outta Noisecrack off Michael Jackson Yeah yeah cause whats called cool Look whoopi roll All over Texas Oh man hes pretty sure Uh huh Hey yo baby Why didn't Mary hear yall been hit Not Dame Farah Egan got arrested God Damn Jesus Christ damn Holy Grail Dude oh Yeheh Yes ah hall want her back straight Fanny Grady Martin Luther King Jr We walked through downtown first floor High School Pimp Show Us Wherever Hell was gonna take us They come across now uh hmm Maybe if u thought maybe diddod look funny Sure Is Beyonce Who Banned Me Mayonnaise He Did But Wasnt In There And Ready For Sermon On Park Slope Leaked Charts Yo Rho Say Come Now Nah Shii Jumped Ghetto Wayfarers Gone Departure Late Night Dogg Canna Be Caught Off TV Jay Z Rollers Balloons Youngie Doe Pushkin Gucci Mane Tytega Xmas Drums Altamont Def Jam Too Soon Limbs Timbaland Will Rocky Wonka Swagger Blazer Stacey Daft Punk Wackery Boogie Louis Vuitton Pullover Camaro Browns Refuse Your Love Brand Adidas Polo Ralph Lauren Fashion Week Paris Saint Laurent LaFruveux Tintillia NARS Black Dress Slim Sammy Jean Grey Sunglasses Raymuz Ali Patronship Rochelle Chanel Prada Vanslin Rouge Versace Suits Selena Gomez Babystar Kim Kardashian Rihanna Margielme Williams Rolex Taylor Swift Drake Lizzy deppice Props Alicia Keys Russell Simmons Cole Jewellery Jordan Michaels Sean Spicer Mike Tyson Rossman Tony Perez Steve Jobs Marc Jacobs Jackie Evgeniyev Andretti Leonardo DiCaprio Ancelotti Anthony Coogliari Albert Einstein Anita Hilliard Apollo Nikita Khaledova Anna Nicole Kidney Christian Bale Al Pacino Janet Chiorelli Angela Smith Cynthia Lee Harvey Oswald Mosley James Earl Jones Amanda Hampton Jimmy Fallon Heidi Klum Victoria Beckham Lexus Models Pamela Anderson Kate Moss Kendall Jenner Alexis Bentley Charles Barkley Linda Marx Benz Cobain Jane Marshall Jennifer Lopez Christina Hendricks Lindsay Apology Marilyn Monroe Joseph Kosher Max Planck Jessie Marshawn Lynch Melrose Leslie Moses Manson Jon Stewart Christopher Columbus Pablo Martinez Monsivais Rachel Angelina Jolies Madeline Moncrest Oscar Milano Murillo Miraculously Obedient Chloe Osborn Marina Abramovich Mark Halbach Marillionaire Benjamin Franklin Patron Robert Menendez Mr Brady Mister Joe Biden Paul McCartney Marco Sanders Tom Cruise Nikki Haley Miss Universe Whitney Houston Nominee Jerome Montezuma Madeleines John Lennon Old Spice Marvin Moore Junior Freddyne Modigliani Brenda McBride Debra Allen Robby McKenzie Chris Ryan Bobby Moynihan Larry Craig Bridget Richardson Bethany Boys Club Beverly Hills Bobbie Grammer Andy Rubin Johnny Cash Bill Cosby Jerry Falcone Ed Norton Brian Chesky Jack White Richard Scratchdown Billy Bush Vince Staples Benito Mussolini Barry Bonds Donald Trump Jeremy Ironsen Nicknames Malcolm Gladysmith Kylian Mbajunya Brandon Vera Belinda Roberts Shawn Rick Warren Nina Simone Minogue Tina Fey Genevieveful Annie Tayla Louie Winona Ryder Kwame Sharpereyelet Howard Stern Eddie Vedder Jesse Eisenberg Elton Scott Alexander Eric Schultz Adam Baldwin Andrew Luck Chuck Hagmus Ashley Judd Kurtzman Alex Salazar Ashlee Gold Starrer Charlie Sheen Elizabeth Banks Corey Lewandowski Alec Kaufman Jeffrey Tambor Jim Parsons Brit Hume Bret Weinstein Jeff Bridges Brad Pitt Malibu Shirley Mills Kipling Keira Knightfeld Stephen Hawking Carl Sagan Francis Lawrence Liveright Ernest Hemingway Eva Longoria Kelly Clarkson Roseanne Hallertown Frankie Edgar Allan Poehler Rosalind Pike Rodolfon Rothstein Lois Lerner Raymond Leonard Nimoy O'Donnell Robin Hood Roland Garros Jewish American Idol Laurence Olivier Richie Leone Romeo Noir Broadway Roy Cohn Rabbi Naomi Klein Prince George Wayne National Basketball Association Frank Sinatra Rocky Mount Sinai Temple Grand Master College Chicago Magic University Napoleon Dynamite Louvre Rudy Giuliani Mitt Romney Major League Soccer Grammy Award winner Emmanuel Macron MPAA President Obama Barack Hussein Ahmadiyah North Carolina Senator Ron Hubbard Pierre Trudeau (Theresa)\n",
            "\n"
          ]
        }
      ],
      "source": [
        "generated_text_samples = model.generate(\n",
        "    input_ids, \n",
        "    max_length=10000,  \n",
        "    num_return_sequences=5,\n",
        "    no_repeat_ngram_size=2,\n",
        "    repetition_penalty=1.5,\n",
        "    top_p=0.92,\n",
        "    temperature=.85,\n",
        "    do_sample=True,\n",
        "    top_k=125,\n",
        "    early_stopping=True\n",
        ")\n",
        "\n",
        "#Print output for each sequence generated above\n",
        "for i, beam in enumerate(generated_text_samples):\n",
        "  print(\"{}: {}\".format(i,tokenizer.decode(beam, skip_special_tokens=True)))\n",
        "  print()"
      ]
    }
  ],
  "metadata": {
    "accelerator": "GPU",
    "colab": {
      "name": "lyrics_generation.ipynb",
      "provenance": [],
      "include_colab_link": true
    },
    "kernelspec": {
      "display_name": "Python 3",
      "name": "python3"
    },
    "language_info": {
      "name": "python"
    },
    "widgets": {
      "application/vnd.jupyter.widget-state+json": {
        "3cc9c5bd3a4440a8b7ac0423acc906c0": {
          "model_module": "@jupyter-widgets/controls",
          "model_name": "HBoxModel",
          "model_module_version": "1.5.0",
          "state": {
            "_dom_classes": [],
            "_model_module": "@jupyter-widgets/controls",
            "_model_module_version": "1.5.0",
            "_model_name": "HBoxModel",
            "_view_count": null,
            "_view_module": "@jupyter-widgets/controls",
            "_view_module_version": "1.5.0",
            "_view_name": "HBoxView",
            "box_style": "",
            "children": [
              "IPY_MODEL_f214eaa6e93a463fb74f17a6c75454b4",
              "IPY_MODEL_4ac84fe656bf41329165e282a93915ad",
              "IPY_MODEL_35883f1d71cb4d2b9c0b99ae70c80649"
            ],
            "layout": "IPY_MODEL_8ef6ffff6f234df68b29bbf768d3edd6"
          }
        },
        "f214eaa6e93a463fb74f17a6c75454b4": {
          "model_module": "@jupyter-widgets/controls",
          "model_name": "HTMLModel",
          "model_module_version": "1.5.0",
          "state": {
            "_dom_classes": [],
            "_model_module": "@jupyter-widgets/controls",
            "_model_module_version": "1.5.0",
            "_model_name": "HTMLModel",
            "_view_count": null,
            "_view_module": "@jupyter-widgets/controls",
            "_view_module_version": "1.5.0",
            "_view_name": "HTMLView",
            "description": "",
            "description_tooltip": null,
            "layout": "IPY_MODEL_3575292a82bf43dabfcc5c250be716dd",
            "placeholder": "​",
            "style": "IPY_MODEL_8f4add41b85b4ed3ad36a42038ad6898",
            "value": "Downloading: 100%"
          }
        },
        "4ac84fe656bf41329165e282a93915ad": {
          "model_module": "@jupyter-widgets/controls",
          "model_name": "FloatProgressModel",
          "model_module_version": "1.5.0",
          "state": {
            "_dom_classes": [],
            "_model_module": "@jupyter-widgets/controls",
            "_model_module_version": "1.5.0",
            "_model_name": "FloatProgressModel",
            "_view_count": null,
            "_view_module": "@jupyter-widgets/controls",
            "_view_module_version": "1.5.0",
            "_view_name": "ProgressView",
            "bar_style": "success",
            "description": "",
            "description_tooltip": null,
            "layout": "IPY_MODEL_abbb193fda7e4a5ba2f24077ef222023",
            "max": 1042301,
            "min": 0,
            "orientation": "horizontal",
            "style": "IPY_MODEL_7b5e61197dd6465ca7ea27f9be0c0233",
            "value": 1042301
          }
        },
        "35883f1d71cb4d2b9c0b99ae70c80649": {
          "model_module": "@jupyter-widgets/controls",
          "model_name": "HTMLModel",
          "model_module_version": "1.5.0",
          "state": {
            "_dom_classes": [],
            "_model_module": "@jupyter-widgets/controls",
            "_model_module_version": "1.5.0",
            "_model_name": "HTMLModel",
            "_view_count": null,
            "_view_module": "@jupyter-widgets/controls",
            "_view_module_version": "1.5.0",
            "_view_name": "HTMLView",
            "description": "",
            "description_tooltip": null,
            "layout": "IPY_MODEL_17e740b32ec34448934d6c30ca77bb7a",
            "placeholder": "​",
            "style": "IPY_MODEL_aea7a6b8d5054fc4858e29a20f07c1b9",
            "value": " 0.99M/0.99M [00:00&lt;00:00, 7.31kB/s]"
          }
        },
        "8ef6ffff6f234df68b29bbf768d3edd6": {
          "model_module": "@jupyter-widgets/base",
          "model_name": "LayoutModel",
          "model_module_version": "1.2.0",
          "state": {
            "_model_module": "@jupyter-widgets/base",
            "_model_module_version": "1.2.0",
            "_model_name": "LayoutModel",
            "_view_count": null,
            "_view_module": "@jupyter-widgets/base",
            "_view_module_version": "1.2.0",
            "_view_name": "LayoutView",
            "align_content": null,
            "align_items": null,
            "align_self": null,
            "border": null,
            "bottom": null,
            "display": null,
            "flex": null,
            "flex_flow": null,
            "grid_area": null,
            "grid_auto_columns": null,
            "grid_auto_flow": null,
            "grid_auto_rows": null,
            "grid_column": null,
            "grid_gap": null,
            "grid_row": null,
            "grid_template_areas": null,
            "grid_template_columns": null,
            "grid_template_rows": null,
            "height": null,
            "justify_content": null,
            "justify_items": null,
            "left": null,
            "margin": null,
            "max_height": null,
            "max_width": null,
            "min_height": null,
            "min_width": null,
            "object_fit": null,
            "object_position": null,
            "order": null,
            "overflow": null,
            "overflow_x": null,
            "overflow_y": null,
            "padding": null,
            "right": null,
            "top": null,
            "visibility": null,
            "width": null
          }
        },
        "3575292a82bf43dabfcc5c250be716dd": {
          "model_module": "@jupyter-widgets/base",
          "model_name": "LayoutModel",
          "model_module_version": "1.2.0",
          "state": {
            "_model_module": "@jupyter-widgets/base",
            "_model_module_version": "1.2.0",
            "_model_name": "LayoutModel",
            "_view_count": null,
            "_view_module": "@jupyter-widgets/base",
            "_view_module_version": "1.2.0",
            "_view_name": "LayoutView",
            "align_content": null,
            "align_items": null,
            "align_self": null,
            "border": null,
            "bottom": null,
            "display": null,
            "flex": null,
            "flex_flow": null,
            "grid_area": null,
            "grid_auto_columns": null,
            "grid_auto_flow": null,
            "grid_auto_rows": null,
            "grid_column": null,
            "grid_gap": null,
            "grid_row": null,
            "grid_template_areas": null,
            "grid_template_columns": null,
            "grid_template_rows": null,
            "height": null,
            "justify_content": null,
            "justify_items": null,
            "left": null,
            "margin": null,
            "max_height": null,
            "max_width": null,
            "min_height": null,
            "min_width": null,
            "object_fit": null,
            "object_position": null,
            "order": null,
            "overflow": null,
            "overflow_x": null,
            "overflow_y": null,
            "padding": null,
            "right": null,
            "top": null,
            "visibility": null,
            "width": null
          }
        },
        "8f4add41b85b4ed3ad36a42038ad6898": {
          "model_module": "@jupyter-widgets/controls",
          "model_name": "DescriptionStyleModel",
          "model_module_version": "1.5.0",
          "state": {
            "_model_module": "@jupyter-widgets/controls",
            "_model_module_version": "1.5.0",
            "_model_name": "DescriptionStyleModel",
            "_view_count": null,
            "_view_module": "@jupyter-widgets/base",
            "_view_module_version": "1.2.0",
            "_view_name": "StyleView",
            "description_width": ""
          }
        },
        "abbb193fda7e4a5ba2f24077ef222023": {
          "model_module": "@jupyter-widgets/base",
          "model_name": "LayoutModel",
          "model_module_version": "1.2.0",
          "state": {
            "_model_module": "@jupyter-widgets/base",
            "_model_module_version": "1.2.0",
            "_model_name": "LayoutModel",
            "_view_count": null,
            "_view_module": "@jupyter-widgets/base",
            "_view_module_version": "1.2.0",
            "_view_name": "LayoutView",
            "align_content": null,
            "align_items": null,
            "align_self": null,
            "border": null,
            "bottom": null,
            "display": null,
            "flex": null,
            "flex_flow": null,
            "grid_area": null,
            "grid_auto_columns": null,
            "grid_auto_flow": null,
            "grid_auto_rows": null,
            "grid_column": null,
            "grid_gap": null,
            "grid_row": null,
            "grid_template_areas": null,
            "grid_template_columns": null,
            "grid_template_rows": null,
            "height": null,
            "justify_content": null,
            "justify_items": null,
            "left": null,
            "margin": null,
            "max_height": null,
            "max_width": null,
            "min_height": null,
            "min_width": null,
            "object_fit": null,
            "object_position": null,
            "order": null,
            "overflow": null,
            "overflow_x": null,
            "overflow_y": null,
            "padding": null,
            "right": null,
            "top": null,
            "visibility": null,
            "width": null
          }
        },
        "7b5e61197dd6465ca7ea27f9be0c0233": {
          "model_module": "@jupyter-widgets/controls",
          "model_name": "ProgressStyleModel",
          "model_module_version": "1.5.0",
          "state": {
            "_model_module": "@jupyter-widgets/controls",
            "_model_module_version": "1.5.0",
            "_model_name": "ProgressStyleModel",
            "_view_count": null,
            "_view_module": "@jupyter-widgets/base",
            "_view_module_version": "1.2.0",
            "_view_name": "StyleView",
            "bar_color": null,
            "description_width": ""
          }
        },
        "17e740b32ec34448934d6c30ca77bb7a": {
          "model_module": "@jupyter-widgets/base",
          "model_name": "LayoutModel",
          "model_module_version": "1.2.0",
          "state": {
            "_model_module": "@jupyter-widgets/base",
            "_model_module_version": "1.2.0",
            "_model_name": "LayoutModel",
            "_view_count": null,
            "_view_module": "@jupyter-widgets/base",
            "_view_module_version": "1.2.0",
            "_view_name": "LayoutView",
            "align_content": null,
            "align_items": null,
            "align_self": null,
            "border": null,
            "bottom": null,
            "display": null,
            "flex": null,
            "flex_flow": null,
            "grid_area": null,
            "grid_auto_columns": null,
            "grid_auto_flow": null,
            "grid_auto_rows": null,
            "grid_column": null,
            "grid_gap": null,
            "grid_row": null,
            "grid_template_areas": null,
            "grid_template_columns": null,
            "grid_template_rows": null,
            "height": null,
            "justify_content": null,
            "justify_items": null,
            "left": null,
            "margin": null,
            "max_height": null,
            "max_width": null,
            "min_height": null,
            "min_width": null,
            "object_fit": null,
            "object_position": null,
            "order": null,
            "overflow": null,
            "overflow_x": null,
            "overflow_y": null,
            "padding": null,
            "right": null,
            "top": null,
            "visibility": null,
            "width": null
          }
        },
        "aea7a6b8d5054fc4858e29a20f07c1b9": {
          "model_module": "@jupyter-widgets/controls",
          "model_name": "DescriptionStyleModel",
          "model_module_version": "1.5.0",
          "state": {
            "_model_module": "@jupyter-widgets/controls",
            "_model_module_version": "1.5.0",
            "_model_name": "DescriptionStyleModel",
            "_view_count": null,
            "_view_module": "@jupyter-widgets/base",
            "_view_module_version": "1.2.0",
            "_view_name": "StyleView",
            "description_width": ""
          }
        },
        "3322fde072cc4e06b68c9804c21f3fc2": {
          "model_module": "@jupyter-widgets/controls",
          "model_name": "HBoxModel",
          "model_module_version": "1.5.0",
          "state": {
            "_dom_classes": [],
            "_model_module": "@jupyter-widgets/controls",
            "_model_module_version": "1.5.0",
            "_model_name": "HBoxModel",
            "_view_count": null,
            "_view_module": "@jupyter-widgets/controls",
            "_view_module_version": "1.5.0",
            "_view_name": "HBoxView",
            "box_style": "",
            "children": [
              "IPY_MODEL_6c8a9d34a9864a02b134fc94e9a44265",
              "IPY_MODEL_251eaa5693bd4cc9876426a5ff168ac8",
              "IPY_MODEL_04c439f4da8e422e94cc72a5a8cc9e9f"
            ],
            "layout": "IPY_MODEL_8b72043faf274c90a044163e95aa5d91"
          }
        },
        "6c8a9d34a9864a02b134fc94e9a44265": {
          "model_module": "@jupyter-widgets/controls",
          "model_name": "HTMLModel",
          "model_module_version": "1.5.0",
          "state": {
            "_dom_classes": [],
            "_model_module": "@jupyter-widgets/controls",
            "_model_module_version": "1.5.0",
            "_model_name": "HTMLModel",
            "_view_count": null,
            "_view_module": "@jupyter-widgets/controls",
            "_view_module_version": "1.5.0",
            "_view_name": "HTMLView",
            "description": "",
            "description_tooltip": null,
            "layout": "IPY_MODEL_bac23bb8396b4176ac7d7fb874007481",
            "placeholder": "​",
            "style": "IPY_MODEL_a5581fff6b894f4a9497582bf79afc31",
            "value": "Downloading: 100%"
          }
        },
        "251eaa5693bd4cc9876426a5ff168ac8": {
          "model_module": "@jupyter-widgets/controls",
          "model_name": "FloatProgressModel",
          "model_module_version": "1.5.0",
          "state": {
            "_dom_classes": [],
            "_model_module": "@jupyter-widgets/controls",
            "_model_module_version": "1.5.0",
            "_model_name": "FloatProgressModel",
            "_view_count": null,
            "_view_module": "@jupyter-widgets/controls",
            "_view_module_version": "1.5.0",
            "_view_name": "ProgressView",
            "bar_style": "success",
            "description": "",
            "description_tooltip": null,
            "layout": "IPY_MODEL_0ed197c330174c4aa5ba6d6fb72ffa68",
            "max": 456318,
            "min": 0,
            "orientation": "horizontal",
            "style": "IPY_MODEL_db0b830933564780941972ebb6e557f8",
            "value": 456318
          }
        },
        "04c439f4da8e422e94cc72a5a8cc9e9f": {
          "model_module": "@jupyter-widgets/controls",
          "model_name": "HTMLModel",
          "model_module_version": "1.5.0",
          "state": {
            "_dom_classes": [],
            "_model_module": "@jupyter-widgets/controls",
            "_model_module_version": "1.5.0",
            "_model_name": "HTMLModel",
            "_view_count": null,
            "_view_module": "@jupyter-widgets/controls",
            "_view_module_version": "1.5.0",
            "_view_name": "HTMLView",
            "description": "",
            "description_tooltip": null,
            "layout": "IPY_MODEL_aabf38d431c840bea7c7c34e9a57194f",
            "placeholder": "​",
            "style": "IPY_MODEL_bd287c7fe4e54e1e9ead515ac38c04fc",
            "value": " 446k/446k [00:00&lt;00:00, 635kB/s]"
          }
        },
        "8b72043faf274c90a044163e95aa5d91": {
          "model_module": "@jupyter-widgets/base",
          "model_name": "LayoutModel",
          "model_module_version": "1.2.0",
          "state": {
            "_model_module": "@jupyter-widgets/base",
            "_model_module_version": "1.2.0",
            "_model_name": "LayoutModel",
            "_view_count": null,
            "_view_module": "@jupyter-widgets/base",
            "_view_module_version": "1.2.0",
            "_view_name": "LayoutView",
            "align_content": null,
            "align_items": null,
            "align_self": null,
            "border": null,
            "bottom": null,
            "display": null,
            "flex": null,
            "flex_flow": null,
            "grid_area": null,
            "grid_auto_columns": null,
            "grid_auto_flow": null,
            "grid_auto_rows": null,
            "grid_column": null,
            "grid_gap": null,
            "grid_row": null,
            "grid_template_areas": null,
            "grid_template_columns": null,
            "grid_template_rows": null,
            "height": null,
            "justify_content": null,
            "justify_items": null,
            "left": null,
            "margin": null,
            "max_height": null,
            "max_width": null,
            "min_height": null,
            "min_width": null,
            "object_fit": null,
            "object_position": null,
            "order": null,
            "overflow": null,
            "overflow_x": null,
            "overflow_y": null,
            "padding": null,
            "right": null,
            "top": null,
            "visibility": null,
            "width": null
          }
        },
        "bac23bb8396b4176ac7d7fb874007481": {
          "model_module": "@jupyter-widgets/base",
          "model_name": "LayoutModel",
          "model_module_version": "1.2.0",
          "state": {
            "_model_module": "@jupyter-widgets/base",
            "_model_module_version": "1.2.0",
            "_model_name": "LayoutModel",
            "_view_count": null,
            "_view_module": "@jupyter-widgets/base",
            "_view_module_version": "1.2.0",
            "_view_name": "LayoutView",
            "align_content": null,
            "align_items": null,
            "align_self": null,
            "border": null,
            "bottom": null,
            "display": null,
            "flex": null,
            "flex_flow": null,
            "grid_area": null,
            "grid_auto_columns": null,
            "grid_auto_flow": null,
            "grid_auto_rows": null,
            "grid_column": null,
            "grid_gap": null,
            "grid_row": null,
            "grid_template_areas": null,
            "grid_template_columns": null,
            "grid_template_rows": null,
            "height": null,
            "justify_content": null,
            "justify_items": null,
            "left": null,
            "margin": null,
            "max_height": null,
            "max_width": null,
            "min_height": null,
            "min_width": null,
            "object_fit": null,
            "object_position": null,
            "order": null,
            "overflow": null,
            "overflow_x": null,
            "overflow_y": null,
            "padding": null,
            "right": null,
            "top": null,
            "visibility": null,
            "width": null
          }
        },
        "a5581fff6b894f4a9497582bf79afc31": {
          "model_module": "@jupyter-widgets/controls",
          "model_name": "DescriptionStyleModel",
          "model_module_version": "1.5.0",
          "state": {
            "_model_module": "@jupyter-widgets/controls",
            "_model_module_version": "1.5.0",
            "_model_name": "DescriptionStyleModel",
            "_view_count": null,
            "_view_module": "@jupyter-widgets/base",
            "_view_module_version": "1.2.0",
            "_view_name": "StyleView",
            "description_width": ""
          }
        },
        "0ed197c330174c4aa5ba6d6fb72ffa68": {
          "model_module": "@jupyter-widgets/base",
          "model_name": "LayoutModel",
          "model_module_version": "1.2.0",
          "state": {
            "_model_module": "@jupyter-widgets/base",
            "_model_module_version": "1.2.0",
            "_model_name": "LayoutModel",
            "_view_count": null,
            "_view_module": "@jupyter-widgets/base",
            "_view_module_version": "1.2.0",
            "_view_name": "LayoutView",
            "align_content": null,
            "align_items": null,
            "align_self": null,
            "border": null,
            "bottom": null,
            "display": null,
            "flex": null,
            "flex_flow": null,
            "grid_area": null,
            "grid_auto_columns": null,
            "grid_auto_flow": null,
            "grid_auto_rows": null,
            "grid_column": null,
            "grid_gap": null,
            "grid_row": null,
            "grid_template_areas": null,
            "grid_template_columns": null,
            "grid_template_rows": null,
            "height": null,
            "justify_content": null,
            "justify_items": null,
            "left": null,
            "margin": null,
            "max_height": null,
            "max_width": null,
            "min_height": null,
            "min_width": null,
            "object_fit": null,
            "object_position": null,
            "order": null,
            "overflow": null,
            "overflow_x": null,
            "overflow_y": null,
            "padding": null,
            "right": null,
            "top": null,
            "visibility": null,
            "width": null
          }
        },
        "db0b830933564780941972ebb6e557f8": {
          "model_module": "@jupyter-widgets/controls",
          "model_name": "ProgressStyleModel",
          "model_module_version": "1.5.0",
          "state": {
            "_model_module": "@jupyter-widgets/controls",
            "_model_module_version": "1.5.0",
            "_model_name": "ProgressStyleModel",
            "_view_count": null,
            "_view_module": "@jupyter-widgets/base",
            "_view_module_version": "1.2.0",
            "_view_name": "StyleView",
            "bar_color": null,
            "description_width": ""
          }
        },
        "aabf38d431c840bea7c7c34e9a57194f": {
          "model_module": "@jupyter-widgets/base",
          "model_name": "LayoutModel",
          "model_module_version": "1.2.0",
          "state": {
            "_model_module": "@jupyter-widgets/base",
            "_model_module_version": "1.2.0",
            "_model_name": "LayoutModel",
            "_view_count": null,
            "_view_module": "@jupyter-widgets/base",
            "_view_module_version": "1.2.0",
            "_view_name": "LayoutView",
            "align_content": null,
            "align_items": null,
            "align_self": null,
            "border": null,
            "bottom": null,
            "display": null,
            "flex": null,
            "flex_flow": null,
            "grid_area": null,
            "grid_auto_columns": null,
            "grid_auto_flow": null,
            "grid_auto_rows": null,
            "grid_column": null,
            "grid_gap": null,
            "grid_row": null,
            "grid_template_areas": null,
            "grid_template_columns": null,
            "grid_template_rows": null,
            "height": null,
            "justify_content": null,
            "justify_items": null,
            "left": null,
            "margin": null,
            "max_height": null,
            "max_width": null,
            "min_height": null,
            "min_width": null,
            "object_fit": null,
            "object_position": null,
            "order": null,
            "overflow": null,
            "overflow_x": null,
            "overflow_y": null,
            "padding": null,
            "right": null,
            "top": null,
            "visibility": null,
            "width": null
          }
        },
        "bd287c7fe4e54e1e9ead515ac38c04fc": {
          "model_module": "@jupyter-widgets/controls",
          "model_name": "DescriptionStyleModel",
          "model_module_version": "1.5.0",
          "state": {
            "_model_module": "@jupyter-widgets/controls",
            "_model_module_version": "1.5.0",
            "_model_name": "DescriptionStyleModel",
            "_view_count": null,
            "_view_module": "@jupyter-widgets/base",
            "_view_module_version": "1.2.0",
            "_view_name": "StyleView",
            "description_width": ""
          }
        },
        "12507e36c3c540d288bf37a055a88aa8": {
          "model_module": "@jupyter-widgets/controls",
          "model_name": "HBoxModel",
          "model_module_version": "1.5.0",
          "state": {
            "_dom_classes": [],
            "_model_module": "@jupyter-widgets/controls",
            "_model_module_version": "1.5.0",
            "_model_name": "HBoxModel",
            "_view_count": null,
            "_view_module": "@jupyter-widgets/controls",
            "_view_module_version": "1.5.0",
            "_view_name": "HBoxView",
            "box_style": "",
            "children": [
              "IPY_MODEL_3a48a01ad0b34fb8809e120b4826db32",
              "IPY_MODEL_65b726d373d54c7288bc2e9d6c2884bc",
              "IPY_MODEL_32c225855a5b4d12ab908d4a9496438a"
            ],
            "layout": "IPY_MODEL_45e6c38d541a49f68cb761361b08ce99"
          }
        },
        "3a48a01ad0b34fb8809e120b4826db32": {
          "model_module": "@jupyter-widgets/controls",
          "model_name": "HTMLModel",
          "model_module_version": "1.5.0",
          "state": {
            "_dom_classes": [],
            "_model_module": "@jupyter-widgets/controls",
            "_model_module_version": "1.5.0",
            "_model_name": "HTMLModel",
            "_view_count": null,
            "_view_module": "@jupyter-widgets/controls",
            "_view_module_version": "1.5.0",
            "_view_name": "HTMLView",
            "description": "",
            "description_tooltip": null,
            "layout": "IPY_MODEL_aa49c3dc8d5940ce97fc430292f0221f",
            "placeholder": "​",
            "style": "IPY_MODEL_70fc8d5b71b7459fa78954cda7a193db",
            "value": "Downloading: 100%"
          }
        },
        "65b726d373d54c7288bc2e9d6c2884bc": {
          "model_module": "@jupyter-widgets/controls",
          "model_name": "FloatProgressModel",
          "model_module_version": "1.5.0",
          "state": {
            "_dom_classes": [],
            "_model_module": "@jupyter-widgets/controls",
            "_model_module_version": "1.5.0",
            "_model_name": "FloatProgressModel",
            "_view_count": null,
            "_view_module": "@jupyter-widgets/controls",
            "_view_module_version": "1.5.0",
            "_view_name": "ProgressView",
            "bar_style": "success",
            "description": "",
            "description_tooltip": null,
            "layout": "IPY_MODEL_c95b26dc8a3d494fa135f2608478bb62",
            "max": 665,
            "min": 0,
            "orientation": "horizontal",
            "style": "IPY_MODEL_1aa372f836cb4ec8aa66bb834a894745",
            "value": 665
          }
        },
        "32c225855a5b4d12ab908d4a9496438a": {
          "model_module": "@jupyter-widgets/controls",
          "model_name": "HTMLModel",
          "model_module_version": "1.5.0",
          "state": {
            "_dom_classes": [],
            "_model_module": "@jupyter-widgets/controls",
            "_model_module_version": "1.5.0",
            "_model_name": "HTMLModel",
            "_view_count": null,
            "_view_module": "@jupyter-widgets/controls",
            "_view_module_version": "1.5.0",
            "_view_name": "HTMLView",
            "description": "",
            "description_tooltip": null,
            "layout": "IPY_MODEL_0916f91baa0b41ac8fdcd7d0b52dba47",
            "placeholder": "​",
            "style": "IPY_MODEL_16597385c2ef4dc8bb78a0dfc4dbabf4",
            "value": " 665/665 [00:00&lt;00:00, 8.45kB/s]"
          }
        },
        "45e6c38d541a49f68cb761361b08ce99": {
          "model_module": "@jupyter-widgets/base",
          "model_name": "LayoutModel",
          "model_module_version": "1.2.0",
          "state": {
            "_model_module": "@jupyter-widgets/base",
            "_model_module_version": "1.2.0",
            "_model_name": "LayoutModel",
            "_view_count": null,
            "_view_module": "@jupyter-widgets/base",
            "_view_module_version": "1.2.0",
            "_view_name": "LayoutView",
            "align_content": null,
            "align_items": null,
            "align_self": null,
            "border": null,
            "bottom": null,
            "display": null,
            "flex": null,
            "flex_flow": null,
            "grid_area": null,
            "grid_auto_columns": null,
            "grid_auto_flow": null,
            "grid_auto_rows": null,
            "grid_column": null,
            "grid_gap": null,
            "grid_row": null,
            "grid_template_areas": null,
            "grid_template_columns": null,
            "grid_template_rows": null,
            "height": null,
            "justify_content": null,
            "justify_items": null,
            "left": null,
            "margin": null,
            "max_height": null,
            "max_width": null,
            "min_height": null,
            "min_width": null,
            "object_fit": null,
            "object_position": null,
            "order": null,
            "overflow": null,
            "overflow_x": null,
            "overflow_y": null,
            "padding": null,
            "right": null,
            "top": null,
            "visibility": null,
            "width": null
          }
        },
        "aa49c3dc8d5940ce97fc430292f0221f": {
          "model_module": "@jupyter-widgets/base",
          "model_name": "LayoutModel",
          "model_module_version": "1.2.0",
          "state": {
            "_model_module": "@jupyter-widgets/base",
            "_model_module_version": "1.2.0",
            "_model_name": "LayoutModel",
            "_view_count": null,
            "_view_module": "@jupyter-widgets/base",
            "_view_module_version": "1.2.0",
            "_view_name": "LayoutView",
            "align_content": null,
            "align_items": null,
            "align_self": null,
            "border": null,
            "bottom": null,
            "display": null,
            "flex": null,
            "flex_flow": null,
            "grid_area": null,
            "grid_auto_columns": null,
            "grid_auto_flow": null,
            "grid_auto_rows": null,
            "grid_column": null,
            "grid_gap": null,
            "grid_row": null,
            "grid_template_areas": null,
            "grid_template_columns": null,
            "grid_template_rows": null,
            "height": null,
            "justify_content": null,
            "justify_items": null,
            "left": null,
            "margin": null,
            "max_height": null,
            "max_width": null,
            "min_height": null,
            "min_width": null,
            "object_fit": null,
            "object_position": null,
            "order": null,
            "overflow": null,
            "overflow_x": null,
            "overflow_y": null,
            "padding": null,
            "right": null,
            "top": null,
            "visibility": null,
            "width": null
          }
        },
        "70fc8d5b71b7459fa78954cda7a193db": {
          "model_module": "@jupyter-widgets/controls",
          "model_name": "DescriptionStyleModel",
          "model_module_version": "1.5.0",
          "state": {
            "_model_module": "@jupyter-widgets/controls",
            "_model_module_version": "1.5.0",
            "_model_name": "DescriptionStyleModel",
            "_view_count": null,
            "_view_module": "@jupyter-widgets/base",
            "_view_module_version": "1.2.0",
            "_view_name": "StyleView",
            "description_width": ""
          }
        },
        "c95b26dc8a3d494fa135f2608478bb62": {
          "model_module": "@jupyter-widgets/base",
          "model_name": "LayoutModel",
          "model_module_version": "1.2.0",
          "state": {
            "_model_module": "@jupyter-widgets/base",
            "_model_module_version": "1.2.0",
            "_model_name": "LayoutModel",
            "_view_count": null,
            "_view_module": "@jupyter-widgets/base",
            "_view_module_version": "1.2.0",
            "_view_name": "LayoutView",
            "align_content": null,
            "align_items": null,
            "align_self": null,
            "border": null,
            "bottom": null,
            "display": null,
            "flex": null,
            "flex_flow": null,
            "grid_area": null,
            "grid_auto_columns": null,
            "grid_auto_flow": null,
            "grid_auto_rows": null,
            "grid_column": null,
            "grid_gap": null,
            "grid_row": null,
            "grid_template_areas": null,
            "grid_template_columns": null,
            "grid_template_rows": null,
            "height": null,
            "justify_content": null,
            "justify_items": null,
            "left": null,
            "margin": null,
            "max_height": null,
            "max_width": null,
            "min_height": null,
            "min_width": null,
            "object_fit": null,
            "object_position": null,
            "order": null,
            "overflow": null,
            "overflow_x": null,
            "overflow_y": null,
            "padding": null,
            "right": null,
            "top": null,
            "visibility": null,
            "width": null
          }
        },
        "1aa372f836cb4ec8aa66bb834a894745": {
          "model_module": "@jupyter-widgets/controls",
          "model_name": "ProgressStyleModel",
          "model_module_version": "1.5.0",
          "state": {
            "_model_module": "@jupyter-widgets/controls",
            "_model_module_version": "1.5.0",
            "_model_name": "ProgressStyleModel",
            "_view_count": null,
            "_view_module": "@jupyter-widgets/base",
            "_view_module_version": "1.2.0",
            "_view_name": "StyleView",
            "bar_color": null,
            "description_width": ""
          }
        },
        "0916f91baa0b41ac8fdcd7d0b52dba47": {
          "model_module": "@jupyter-widgets/base",
          "model_name": "LayoutModel",
          "model_module_version": "1.2.0",
          "state": {
            "_model_module": "@jupyter-widgets/base",
            "_model_module_version": "1.2.0",
            "_model_name": "LayoutModel",
            "_view_count": null,
            "_view_module": "@jupyter-widgets/base",
            "_view_module_version": "1.2.0",
            "_view_name": "LayoutView",
            "align_content": null,
            "align_items": null,
            "align_self": null,
            "border": null,
            "bottom": null,
            "display": null,
            "flex": null,
            "flex_flow": null,
            "grid_area": null,
            "grid_auto_columns": null,
            "grid_auto_flow": null,
            "grid_auto_rows": null,
            "grid_column": null,
            "grid_gap": null,
            "grid_row": null,
            "grid_template_areas": null,
            "grid_template_columns": null,
            "grid_template_rows": null,
            "height": null,
            "justify_content": null,
            "justify_items": null,
            "left": null,
            "margin": null,
            "max_height": null,
            "max_width": null,
            "min_height": null,
            "min_width": null,
            "object_fit": null,
            "object_position": null,
            "order": null,
            "overflow": null,
            "overflow_x": null,
            "overflow_y": null,
            "padding": null,
            "right": null,
            "top": null,
            "visibility": null,
            "width": null
          }
        },
        "16597385c2ef4dc8bb78a0dfc4dbabf4": {
          "model_module": "@jupyter-widgets/controls",
          "model_name": "DescriptionStyleModel",
          "model_module_version": "1.5.0",
          "state": {
            "_model_module": "@jupyter-widgets/controls",
            "_model_module_version": "1.5.0",
            "_model_name": "DescriptionStyleModel",
            "_view_count": null,
            "_view_module": "@jupyter-widgets/base",
            "_view_module_version": "1.2.0",
            "_view_name": "StyleView",
            "description_width": ""
          }
        }
      }
    }
  },
  "nbformat": 4,
  "nbformat_minor": 0
}